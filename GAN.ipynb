{
  "nbformat": 4,
  "nbformat_minor": 0,
  "metadata": {
    "colab": {
      "provenance": [],
      "gpuType": "T4",
      "authorship_tag": "ABX9TyMrjMCghotqUbc+bx/Xw3cq",
      "include_colab_link": true
    },
    "kernelspec": {
      "name": "python3",
      "display_name": "Python 3"
    },
    "language_info": {
      "name": "python"
    },
    "accelerator": "GPU"
  },
  "cells": [
    {
      "cell_type": "markdown",
      "metadata": {
        "id": "view-in-github",
        "colab_type": "text"
      },
      "source": [
        "<a href=\"https://colab.research.google.com/github/pydevcasts/MLHub/blob/master/GAN.ipynb\" target=\"_parent\"><img src=\"https://colab.research.google.com/assets/colab-badge.svg\" alt=\"Open In Colab\"/></a>"
      ]
    },
    {
      "cell_type": "code",
      "execution_count": null,
      "metadata": {
        "colab": {
          "base_uri": "https://localhost:8080/"
        },
        "id": "WylKs0mC2pLX",
        "outputId": "c152c069-6181-4ec2-e58e-70052618590a"
      },
      "outputs": [
        {
          "output_type": "stream",
          "name": "stdout",
          "text": [
            "Requirement already satisfied: torch in /usr/local/lib/python3.11/dist-packages (2.6.0+cu124)\n",
            "Requirement already satisfied: torchvision in /usr/local/lib/python3.11/dist-packages (0.21.0+cu124)\n",
            "Collecting pytorch-fid\n",
            "  Downloading pytorch_fid-0.3.0-py3-none-any.whl.metadata (5.3 kB)\n",
            "Requirement already satisfied: filelock in /usr/local/lib/python3.11/dist-packages (from torch) (3.18.0)\n",
            "Requirement already satisfied: typing-extensions>=4.10.0 in /usr/local/lib/python3.11/dist-packages (from torch) (4.12.2)\n",
            "Requirement already satisfied: networkx in /usr/local/lib/python3.11/dist-packages (from torch) (3.4.2)\n",
            "Requirement already satisfied: jinja2 in /usr/local/lib/python3.11/dist-packages (from torch) (3.1.6)\n",
            "Requirement already satisfied: fsspec in /usr/local/lib/python3.11/dist-packages (from torch) (2025.3.0)\n",
            "Collecting nvidia-cuda-nvrtc-cu12==12.4.127 (from torch)\n",
            "  Downloading nvidia_cuda_nvrtc_cu12-12.4.127-py3-none-manylinux2014_x86_64.whl.metadata (1.5 kB)\n",
            "Collecting nvidia-cuda-runtime-cu12==12.4.127 (from torch)\n",
            "  Downloading nvidia_cuda_runtime_cu12-12.4.127-py3-none-manylinux2014_x86_64.whl.metadata (1.5 kB)\n",
            "Collecting nvidia-cuda-cupti-cu12==12.4.127 (from torch)\n",
            "  Downloading nvidia_cuda_cupti_cu12-12.4.127-py3-none-manylinux2014_x86_64.whl.metadata (1.6 kB)\n",
            "Collecting nvidia-cudnn-cu12==9.1.0.70 (from torch)\n",
            "  Downloading nvidia_cudnn_cu12-9.1.0.70-py3-none-manylinux2014_x86_64.whl.metadata (1.6 kB)\n",
            "Collecting nvidia-cublas-cu12==12.4.5.8 (from torch)\n",
            "  Downloading nvidia_cublas_cu12-12.4.5.8-py3-none-manylinux2014_x86_64.whl.metadata (1.5 kB)\n",
            "Collecting nvidia-cufft-cu12==11.2.1.3 (from torch)\n",
            "  Downloading nvidia_cufft_cu12-11.2.1.3-py3-none-manylinux2014_x86_64.whl.metadata (1.5 kB)\n",
            "Collecting nvidia-curand-cu12==10.3.5.147 (from torch)\n",
            "  Downloading nvidia_curand_cu12-10.3.5.147-py3-none-manylinux2014_x86_64.whl.metadata (1.5 kB)\n",
            "Collecting nvidia-cusolver-cu12==11.6.1.9 (from torch)\n",
            "  Downloading nvidia_cusolver_cu12-11.6.1.9-py3-none-manylinux2014_x86_64.whl.metadata (1.6 kB)\n",
            "Collecting nvidia-cusparse-cu12==12.3.1.170 (from torch)\n",
            "  Downloading nvidia_cusparse_cu12-12.3.1.170-py3-none-manylinux2014_x86_64.whl.metadata (1.6 kB)\n",
            "Requirement already satisfied: nvidia-cusparselt-cu12==0.6.2 in /usr/local/lib/python3.11/dist-packages (from torch) (0.6.2)\n",
            "Requirement already satisfied: nvidia-nccl-cu12==2.21.5 in /usr/local/lib/python3.11/dist-packages (from torch) (2.21.5)\n",
            "Requirement already satisfied: nvidia-nvtx-cu12==12.4.127 in /usr/local/lib/python3.11/dist-packages (from torch) (12.4.127)\n",
            "Collecting nvidia-nvjitlink-cu12==12.4.127 (from torch)\n",
            "  Downloading nvidia_nvjitlink_cu12-12.4.127-py3-none-manylinux2014_x86_64.whl.metadata (1.5 kB)\n",
            "Requirement already satisfied: triton==3.2.0 in /usr/local/lib/python3.11/dist-packages (from torch) (3.2.0)\n",
            "Requirement already satisfied: sympy==1.13.1 in /usr/local/lib/python3.11/dist-packages (from torch) (1.13.1)\n",
            "Requirement already satisfied: mpmath<1.4,>=1.1.0 in /usr/local/lib/python3.11/dist-packages (from sympy==1.13.1->torch) (1.3.0)\n",
            "Requirement already satisfied: numpy in /usr/local/lib/python3.11/dist-packages (from torchvision) (2.0.2)\n",
            "Requirement already satisfied: pillow!=8.3.*,>=5.3.0 in /usr/local/lib/python3.11/dist-packages (from torchvision) (11.1.0)\n",
            "Requirement already satisfied: scipy in /usr/local/lib/python3.11/dist-packages (from pytorch-fid) (1.14.1)\n",
            "Requirement already satisfied: MarkupSafe>=2.0 in /usr/local/lib/python3.11/dist-packages (from jinja2->torch) (3.0.2)\n",
            "Downloading nvidia_cublas_cu12-12.4.5.8-py3-none-manylinux2014_x86_64.whl (363.4 MB)\n",
            "\u001b[2K   \u001b[90m━━━━━━━━━━━━━━━━━━━━━━━━━━━━━━━━━━━━━━━━\u001b[0m \u001b[32m363.4/363.4 MB\u001b[0m \u001b[31m3.5 MB/s\u001b[0m eta \u001b[36m0:00:00\u001b[0m\n",
            "\u001b[?25hDownloading nvidia_cuda_cupti_cu12-12.4.127-py3-none-manylinux2014_x86_64.whl (13.8 MB)\n",
            "\u001b[2K   \u001b[90m━━━━━━━━━━━━━━━━━━━━━━━━━━━━━━━━━━━━━━━━\u001b[0m \u001b[32m13.8/13.8 MB\u001b[0m \u001b[31m55.5 MB/s\u001b[0m eta \u001b[36m0:00:00\u001b[0m\n",
            "\u001b[?25hDownloading nvidia_cuda_nvrtc_cu12-12.4.127-py3-none-manylinux2014_x86_64.whl (24.6 MB)\n",
            "\u001b[2K   \u001b[90m━━━━━━━━━━━━━━━━━━━━━━━━━━━━━━━━━━━━━━━━\u001b[0m \u001b[32m24.6/24.6 MB\u001b[0m \u001b[31m42.4 MB/s\u001b[0m eta \u001b[36m0:00:00\u001b[0m\n",
            "\u001b[?25hDownloading nvidia_cuda_runtime_cu12-12.4.127-py3-none-manylinux2014_x86_64.whl (883 kB)\n",
            "\u001b[2K   \u001b[90m━━━━━━━━━━━━━━━━━━━━━━━━━━━━━━━━━━━━━━━━\u001b[0m \u001b[32m883.7/883.7 kB\u001b[0m \u001b[31m58.9 MB/s\u001b[0m eta \u001b[36m0:00:00\u001b[0m\n",
            "\u001b[?25hDownloading nvidia_cudnn_cu12-9.1.0.70-py3-none-manylinux2014_x86_64.whl (664.8 MB)\n",
            "\u001b[2K   \u001b[90m━━━━━━━━━━━━━━━━━━━━━━━━━━━━━━━━━━━━━━━━\u001b[0m \u001b[32m664.8/664.8 MB\u001b[0m \u001b[31m2.5 MB/s\u001b[0m eta \u001b[36m0:00:00\u001b[0m\n",
            "\u001b[?25hDownloading nvidia_cufft_cu12-11.2.1.3-py3-none-manylinux2014_x86_64.whl (211.5 MB)\n",
            "\u001b[2K   \u001b[90m━━━━━━━━━━━━━━━━━━━━━━━━━━━━━━━━━━━━━━━━\u001b[0m \u001b[32m211.5/211.5 MB\u001b[0m \u001b[31m5.7 MB/s\u001b[0m eta \u001b[36m0:00:00\u001b[0m\n",
            "\u001b[?25hDownloading nvidia_curand_cu12-10.3.5.147-py3-none-manylinux2014_x86_64.whl (56.3 MB)\n",
            "\u001b[2K   \u001b[90m━━━━━━━━━━━━━━━━━━━━━━━━━━━━━━━━━━━━━━━━\u001b[0m \u001b[32m56.3/56.3 MB\u001b[0m \u001b[31m10.9 MB/s\u001b[0m eta \u001b[36m0:00:00\u001b[0m\n",
            "\u001b[?25hDownloading nvidia_cusolver_cu12-11.6.1.9-py3-none-manylinux2014_x86_64.whl (127.9 MB)\n",
            "\u001b[2K   \u001b[90m━━━━━━━━━━━━━━━━━━━━━━━━━━━━━━━━━━━━━━━━\u001b[0m \u001b[32m127.9/127.9 MB\u001b[0m \u001b[31m7.1 MB/s\u001b[0m eta \u001b[36m0:00:00\u001b[0m\n",
            "\u001b[?25hDownloading nvidia_cusparse_cu12-12.3.1.170-py3-none-manylinux2014_x86_64.whl (207.5 MB)\n",
            "\u001b[2K   \u001b[90m━━━━━━━━━━━━━━━━━━━━━━━━━━━━━━━━━━━━━━━━\u001b[0m \u001b[32m207.5/207.5 MB\u001b[0m \u001b[31m5.6 MB/s\u001b[0m eta \u001b[36m0:00:00\u001b[0m\n",
            "\u001b[?25hDownloading nvidia_nvjitlink_cu12-12.4.127-py3-none-manylinux2014_x86_64.whl (21.1 MB)\n",
            "\u001b[2K   \u001b[90m━━━━━━━━━━━━━━━━━━━━━━━━━━━━━━━━━━━━━━━━\u001b[0m \u001b[32m21.1/21.1 MB\u001b[0m \u001b[31m59.5 MB/s\u001b[0m eta \u001b[36m0:00:00\u001b[0m\n",
            "\u001b[?25hDownloading pytorch_fid-0.3.0-py3-none-any.whl (15 kB)\n",
            "Installing collected packages: nvidia-nvjitlink-cu12, nvidia-curand-cu12, nvidia-cufft-cu12, nvidia-cuda-runtime-cu12, nvidia-cuda-nvrtc-cu12, nvidia-cuda-cupti-cu12, nvidia-cublas-cu12, nvidia-cusparse-cu12, nvidia-cudnn-cu12, nvidia-cusolver-cu12, pytorch-fid\n",
            "  Attempting uninstall: nvidia-nvjitlink-cu12\n",
            "    Found existing installation: nvidia-nvjitlink-cu12 12.5.82\n",
            "    Uninstalling nvidia-nvjitlink-cu12-12.5.82:\n",
            "      Successfully uninstalled nvidia-nvjitlink-cu12-12.5.82\n",
            "  Attempting uninstall: nvidia-curand-cu12\n",
            "    Found existing installation: nvidia-curand-cu12 10.3.6.82\n",
            "    Uninstalling nvidia-curand-cu12-10.3.6.82:\n",
            "      Successfully uninstalled nvidia-curand-cu12-10.3.6.82\n",
            "  Attempting uninstall: nvidia-cufft-cu12\n",
            "    Found existing installation: nvidia-cufft-cu12 11.2.3.61\n",
            "    Uninstalling nvidia-cufft-cu12-11.2.3.61:\n",
            "      Successfully uninstalled nvidia-cufft-cu12-11.2.3.61\n",
            "  Attempting uninstall: nvidia-cuda-runtime-cu12\n",
            "    Found existing installation: nvidia-cuda-runtime-cu12 12.5.82\n",
            "    Uninstalling nvidia-cuda-runtime-cu12-12.5.82:\n",
            "      Successfully uninstalled nvidia-cuda-runtime-cu12-12.5.82\n",
            "  Attempting uninstall: nvidia-cuda-nvrtc-cu12\n",
            "    Found existing installation: nvidia-cuda-nvrtc-cu12 12.5.82\n",
            "    Uninstalling nvidia-cuda-nvrtc-cu12-12.5.82:\n",
            "      Successfully uninstalled nvidia-cuda-nvrtc-cu12-12.5.82\n",
            "  Attempting uninstall: nvidia-cuda-cupti-cu12\n",
            "    Found existing installation: nvidia-cuda-cupti-cu12 12.5.82\n",
            "    Uninstalling nvidia-cuda-cupti-cu12-12.5.82:\n",
            "      Successfully uninstalled nvidia-cuda-cupti-cu12-12.5.82\n",
            "  Attempting uninstall: nvidia-cublas-cu12\n",
            "    Found existing installation: nvidia-cublas-cu12 12.5.3.2\n",
            "    Uninstalling nvidia-cublas-cu12-12.5.3.2:\n",
            "      Successfully uninstalled nvidia-cublas-cu12-12.5.3.2\n",
            "  Attempting uninstall: nvidia-cusparse-cu12\n",
            "    Found existing installation: nvidia-cusparse-cu12 12.5.1.3\n",
            "    Uninstalling nvidia-cusparse-cu12-12.5.1.3:\n",
            "      Successfully uninstalled nvidia-cusparse-cu12-12.5.1.3\n",
            "  Attempting uninstall: nvidia-cudnn-cu12\n",
            "    Found existing installation: nvidia-cudnn-cu12 9.3.0.75\n",
            "    Uninstalling nvidia-cudnn-cu12-9.3.0.75:\n",
            "      Successfully uninstalled nvidia-cudnn-cu12-9.3.0.75\n",
            "  Attempting uninstall: nvidia-cusolver-cu12\n",
            "    Found existing installation: nvidia-cusolver-cu12 11.6.3.83\n",
            "    Uninstalling nvidia-cusolver-cu12-11.6.3.83:\n",
            "      Successfully uninstalled nvidia-cusolver-cu12-11.6.3.83\n",
            "Successfully installed nvidia-cublas-cu12-12.4.5.8 nvidia-cuda-cupti-cu12-12.4.127 nvidia-cuda-nvrtc-cu12-12.4.127 nvidia-cuda-runtime-cu12-12.4.127 nvidia-cudnn-cu12-9.1.0.70 nvidia-cufft-cu12-11.2.1.3 nvidia-curand-cu12-10.3.5.147 nvidia-cusolver-cu12-11.6.1.9 nvidia-cusparse-cu12-12.3.1.170 nvidia-nvjitlink-cu12-12.4.127 pytorch-fid-0.3.0\n"
          ]
        }
      ],
      "source": [
        "# Install required packages: PyTorch, torchvision, and pytorch-fid for FID calculation\n",
        "!pip install torch torchvision pytorch-fid\n",
        "\n",
        "# Import necessary libraries\n",
        "import os  # For interacting with the operating system\n",
        "import torch  # Main PyTorch library\n",
        "import torch.nn as nn  # For building neural network components\n",
        "import torch.optim as optim  # For optimization algorithms\n",
        "from torchvision import datasets, transforms  # For datasets and image transformations\n",
        "from torch.utils.data import DataLoader  # For loading data in batches\n",
        "import numpy as np  # For numerical operations\n",
        "import matplotlib.pyplot as plt  # For plotting images and graphs\n",
        "from pytorch_fid import fid_score  # For calculating the Fréchet Inception Distance (FID)"
      ]
    },
    {
      "cell_type": "code",
      "source": [
        "# Set the device to GPU if available, otherwise use CPU\n",
        "device = torch.device(\"cuda\" if torch.cuda.is_available() else \"cpu\")\n",
        "\n",
        "# Define the dimensionality of the latent space for the generator\n",
        "# latent_dim = 64\n",
        "\n",
        "# Set the batch size for training\n",
        "batch_size = 128 #= [256, 128, 64, 32, 16, 8]\n",
        "\n",
        "# Define the size of the images (e.g., for MNIST, images are 28x28 pixels)\n",
        "image_size = 28\n",
        "\n",
        "# Set the learning rate for the optimizer\n",
        "lr = 0.0002\n",
        "\n",
        "# Define the number of epochs for training the model\n",
        "num_epochs = 20"
      ],
      "metadata": {
        "id": "ipDKfij-29WF"
      },
      "execution_count": null,
      "outputs": []
    },
    {
      "cell_type": "code",
      "source": [
        "# Define a series of transformations to be applied to the images\n",
        "transform = transforms.Compose([\n",
        "    transforms.Resize(image_size),  # Resize images to the specified image size (28x28)\n",
        "    transforms.ToTensor(),  # Convert images to PyTorch tensors\n",
        "    transforms.Normalize((0.5,), (0.5,)),  # Normalize the images to have mean 0.5 and standard deviation 0.5\n",
        "])\n",
        "\n",
        "# Load the MNIST dataset\n",
        "dataset = datasets.MNIST(root='./data', train=True, download=True, transform=transform)\n",
        "\n",
        "# Create a DataLoader for batching and shuffling the dataset\n",
        "dataloader = DataLoader(dataset,\n",
        "                        batch_size=batch_size,  # Set the batch size\n",
        "                        shuffle=True,  # Shuffle the dataset for each epoch\n",
        "                        drop_last=True  # Drop the last incomplete batch if it is smaller than batch_size\n",
        "                        )"
      ],
      "metadata": {
        "id": "UTq4cchJ3C3T"
      },
      "execution_count": null,
      "outputs": []
    },
    {
      "cell_type": "code",
      "source": [
        "print(latent_dim)\n",
        "print(batch_size)\n"
      ],
      "metadata": {
        "colab": {
          "base_uri": "https://localhost:8080/"
        },
        "id": "ykO0kt0lkzdJ",
        "outputId": "0bdc2839-a26a-4bc6-bc57-75ba403cdc5b"
      },
      "execution_count": null,
      "outputs": [
        {
          "output_type": "stream",
          "name": "stdout",
          "text": [
            "64\n",
            "8\n"
          ]
        }
      ]
    },
    {
      "cell_type": "code",
      "source": [
        "# Define the Generator class, inheriting from nn.Module\n",
        "class Generator(nn.Module):\n",
        "    def __init__(self, latent_dim=64, img_channels=1, img_size=28):\n",
        "        super().__init__()  # Initialize the base class\n",
        "\n",
        "        # Define the model architecture as a sequential container\n",
        "        self.model = nn.Sequential(\n",
        "            # Layer 1: Map latent_dim to 512 units\n",
        "            nn.Linear(latent_dim, 512),  # Fully connected layer from latent space to 512 units\n",
        "            nn.BatchNorm1d(512),  # Batch normalization for stable training\n",
        "            nn.ReLU(),  # ReLU activation function\n",
        "\n",
        "            # Layer 2: Map 512 units to 64*8*8 units\n",
        "            nn.Linear(512, 64 * 8 * 8),  # Fully connected layer to 64*8*8 units\n",
        "            nn.BatchNorm1d(64 * 8 * 8),  # Batch normalization\n",
        "            nn.ReLU(),  # ReLU activation function\n",
        "\n",
        "            # Reshape to 3D tensor for convolutional layers\n",
        "            nn.Unflatten(1, (64, 8, 8)),  # Reshape the output to (batch_size, 64, 8, 8)\n",
        "\n",
        "            # First PixelShuffle: Upsample (64, 8, 8) to (16, 16, 16)\n",
        "            nn.PixelShuffle(2),  # Rearranges elements in the tensor to increase spatial dimensions\n",
        "\n",
        "            # Convolutional layer: Increase channels from 16 to 32\n",
        "            nn.Conv2d(16, 32, kernel_size=3, padding=1),  # 2D convolution with 32 output channels\n",
        "            nn.BatchNorm2d(32),  # Batch normalization\n",
        "            nn.ReLU(),  # ReLU activation function\n",
        "\n",
        "            # Second PixelShuffle: Upsample (32, 16, 16) to (8, 32, 32)\n",
        "            nn.PixelShuffle(2),  # Further increases spatial dimensions while reducing channels\n",
        "\n",
        "            # Final layers to produce the output image\n",
        "            nn.Conv2d(8, img_channels, kernel_size=3, padding=1),  # Final convolution to produce the desired number of channels (e.g., 1 for grayscale)\n",
        "            nn.Upsample(size=(img_size, img_size), mode='bilinear'),  # Upsample to the final image size (28x28)\n",
        "            nn.Sigmoid()  # Sigmoid activation to output values between 0 and 1 for pixel intensities\n",
        "        )\n",
        "\n",
        "    # Forward pass through the generator\n",
        "    def forward(self, z):\n",
        "        return self.model(z)  # Pass the input through the model"
      ],
      "metadata": {
        "id": "UR03M1Ph3Ptq"
      },
      "execution_count": null,
      "outputs": []
    },
    {
      "cell_type": "code",
      "source": [
        "print(latent_dim)\n",
        "print(batch_size)\n",
        "# print(real_images.size(0))"
      ],
      "metadata": {
        "colab": {
          "base_uri": "https://localhost:8080/"
        },
        "id": "-rZG5kklk4q1",
        "outputId": "c68be8e4-a28f-473a-82af-20d489998301"
      },
      "execution_count": null,
      "outputs": [
        {
          "output_type": "stream",
          "name": "stdout",
          "text": [
            "64\n",
            "8\n"
          ]
        }
      ]
    },
    {
      "cell_type": "code",
      "source": [
        "\n",
        "# Define the Discriminator class, inheriting from nn.Module\n",
        "class Discriminator(nn.Module):\n",
        "    def __init__(self):\n",
        "        super().__init__()  # Initialize the base class\n",
        "\n",
        "        # Define the model architecture as a sequential container\n",
        "        self.main = nn.Sequential(\n",
        "            # First convolutional layer: 1 input channel -> 32 output channels\n",
        "            nn.Conv2d(1, 32, kernel_size=4, stride=2, padding=1),  # Output size: 32x14x14\n",
        "            nn.ReLU(),  # ReLU activation function\n",
        "\n",
        "            # Second convolutional layer: 32 input channels -> 64 output channels\n",
        "            nn.Conv2d(32, 64, kernel_size=4, stride=2, padding=1),  # Output size: 64x7x7\n",
        "            nn.ReLU(),  # ReLU activation function\n",
        "\n",
        "            # Flatten the output for the fully connected layers\n",
        "            nn.Flatten(),  # Convert the 3D tensor to a 1D tensor\n",
        "\n",
        "            # First fully connected layer: 64*7*7 inputs -> 512 outputs\n",
        "            nn.Linear(64 * 7 * 7, 512),  # The input size must match the flattened output\n",
        "            nn.ReLU(),  # ReLU activation function\n",
        "\n",
        "            # Second fully connected layer: 512 inputs -> 1 output\n",
        "            nn.Linear(512, 1),  # Final layer outputs a single value (real or fake)\n",
        "\n",
        "            # Sigmoid activation to output a probability between 0 and 1\n",
        "            nn.Sigmoid()  # This is used to produce a probability score for the input\n",
        "        )\n",
        "\n",
        "    # Forward pass through the discriminator\n",
        "    def forward(self, x):\n",
        "        return self.main(x)  # Pass the input through the model"
      ],
      "metadata": {
        "id": "tmGM7Hq33Yhi"
      },
      "execution_count": null,
      "outputs": []
    },
    {
      "cell_type": "code",
      "source": [
        "print(latent_dim)\n",
        "print(batch_size)\n",
        "# print(real_images.size(0))"
      ],
      "metadata": {
        "colab": {
          "base_uri": "https://localhost:8080/"
        },
        "id": "jET-HWOCk7q2",
        "outputId": "80ae9e39-ecff-4380-9696-5ac3ca2efac8"
      },
      "execution_count": null,
      "outputs": [
        {
          "output_type": "stream",
          "name": "stdout",
          "text": [
            "64\n",
            "8\n"
          ]
        }
      ]
    },
    {
      "cell_type": "markdown",
      "source": [
        "### تابع خطا (Non-Saturating Loss):"
      ],
      "metadata": {
        "id": "itZTYN9TzqCR"
      }
    },
    {
      "cell_type": "code",
      "source": [
        "# Define the loss functions for the generator and discriminator\n",
        "def generator_loss(fake_output):\n",
        "    # Non-saturating loss for the generator\n",
        "    return -torch.mean(torch.log(fake_output))\n",
        "\n",
        "def discriminator_loss(real_output, fake_output):\n",
        "    # Non-saturating loss for the discriminator\n",
        "    real_loss = -torch.mean(torch.log(real_output))  # Loss for real images\n",
        "    fake_loss = -torch.mean(torch.log(1 - fake_output))  # Loss for fake images\n",
        "    return real_loss + fake_loss  # Total loss for the discriminator\n",
        "\n",
        "# Initialize the generator and discriminator models and move them to the specified device (GPU or CPU)\n",
        "generator = Generator().to(device)  # Create and move the generator to the device\n",
        "discriminator = Discriminator().to(device)  # Create and move the discriminator to the device\n",
        "\n",
        "# Initialize optimizers for both models\n",
        "optimizer_G = optim.Adam(generator.parameters(), lr=lr, betas=(0.5, 0.999))  # Adam optimizer for the generator\n",
        "optimizer_D = optim.Adam(discriminator.parameters(), lr=lr, betas=(0.5, 0.999))  # Adam optimizer for the discriminator"
      ],
      "metadata": {
        "id": "aeEZjWqh3bKo"
      },
      "execution_count": null,
      "outputs": []
    },
    {
      "cell_type": "code",
      "source": [
        "print(latent_dim)\n",
        "print(batch_size)\n",
        "# print(real_images.size(0))"
      ],
      "metadata": {
        "colab": {
          "base_uri": "https://localhost:8080/"
        },
        "id": "x2W5QIHDlBM-",
        "outputId": "56959e8e-bdc0-4249-d846-d064e2b5e412"
      },
      "execution_count": null,
      "outputs": [
        {
          "output_type": "stream",
          "name": "stdout",
          "text": [
            "64\n",
            "8\n"
          ]
        }
      ]
    },
    {
      "cell_type": "code",
      "source": [
        "\n",
        "# 7. Training Loop\n",
        "g_losses = []  # List to store generator loss values\n",
        "d_losses = []  # List to store discriminator loss values\n",
        "\n",
        "# Define epochs to save generated images: initial, mid, and final\n",
        "save_epochs = [1, num_epochs // 2, num_epochs]  # Save generated images at the beginning, middle, and end of training\n",
        "\n",
        "# Loop through each epoch\n",
        "for epoch in range(num_epochs):\n",
        "    for i, (images, _) in enumerate(dataloader):\n",
        "        # (a) Train the Discriminator\n",
        "        discriminator.zero_grad()  # Reset gradients for the discriminator\n",
        "        real_images = images.to(device)  # Move real images to the specified device\n",
        "        batch_size = real_images.size(0)  # Get the batch size\n",
        "\n",
        "        # 1. Generate fake images\n",
        "        z = torch.randn(batch_size, latent_dim, device=device)  # Sample random latent vectors\n",
        "        fake_images = generator(z)  # Generate fake images using the generator\n",
        "\n",
        "        # 2. Calculate discriminator output for real and fake images\n",
        "        real_output = discriminator(real_images).squeeze()  # Get discriminator output for real images\n",
        "        fake_output = discriminator(fake_images.detach()).squeeze()  # Get output for fake images (detach to avoid backpropagation through generator)\n",
        "\n",
        "        # 3. Compute discriminator loss and update\n",
        "        d_loss = discriminator_loss(real_output, fake_output)  # Compute discriminator loss\n",
        "        d_loss.backward()  # Backpropagate the loss\n",
        "        optimizer_D.step()  # Update the discriminator's parameters\n",
        "\n",
        "        # (b) Train the Generator\n",
        "        generator.zero_grad()  # Reset gradients for the generator\n",
        "        # Generate fake images again\n",
        "        z = torch.randn(batch_size, latent_dim, device=device)  # Sample random latent vectors\n",
        "        fake_images = generator(z)  # Generate new fake images\n",
        "\n",
        "        # Compute discriminator output for fake images\n",
        "        fake_output = discriminator(fake_images).squeeze()  # Get output for fake images\n",
        "\n",
        "        # Compute generator loss and update\n",
        "        g_loss = generator_loss(fake_output)  # Compute generator loss\n",
        "        g_loss.backward()  # Backpropagate the loss\n",
        "        optimizer_G.step()  # Update the generator's parameters\n",
        "\n",
        "        # Save loss values\n",
        "        g_losses.append(g_loss.item())  # Append generator loss to the list\n",
        "        d_losses.append(d_loss.item())  # Append discriminator loss to the list\n",
        "\n",
        "        # Print loss values every 200 steps\n",
        "        if (i + 1) % 200 == 0:\n",
        "            print(\n",
        "                f\"Epoch [{epoch + 1}/{num_epochs}], Step [{i + 1}/{len(dataloader)}], \"\n",
        "                f\"Loss_G: {g_loss.item():.4f}, Loss_D: {d_loss.item():.4f}\"\n",
        "            )\n",
        "\n",
        "    # (c) Save a sample of generated images at initial, mid, and final stages\n",
        "    if (epoch + 1) in save_epochs:\n",
        "        with torch.no_grad():  # Disable gradient calculation for inference\n",
        "            z = torch.randn(10 * 10, latent_dim, device=device)  # Generate a grid of latent vectors\n",
        "            generated_images = generator(z).cpu()  # Generate images and move to CPU for visualization\n",
        "\n",
        "            # Visualize the generated images\n",
        "            fig, axs = plt.subplots(10, 10, figsize=(10, 10))  # Create a 10x10 grid of subplots\n",
        "            for i in range(10):\n",
        "                for j in range(10):\n",
        "                    img_idx = i * 10 + j  # Calculate index for the image\n",
        "                    axs[i, j].imshow(generated_images[img_idx].squeeze(), cmap='gray')  # Display the image\n",
        "                    axs[i, j].axis('off')  # Hide the axes\n",
        "\n",
        "            # Save the generated images to a file\n",
        "            plt.savefig(os.path.join('./', f\"generated_images_epoch_{epoch + 1}.png\"))\n",
        "            print(f\"Generated images saved for epoch {epoch + 1}\")\n",
        "            plt.close(fig)  # Close the figure to free up memory"
      ],
      "metadata": {
        "colab": {
          "base_uri": "https://localhost:8080/"
        },
        "id": "4nEvfdb83esg",
        "outputId": "5dd299a3-38fd-46a9-d3f7-a45fbc81425a"
      },
      "execution_count": null,
      "outputs": [
        {
          "output_type": "stream",
          "name": "stdout",
          "text": [
            "Epoch [1/5], Step [200/7500], Loss_G: 9.4934, Loss_D: 0.0001\n",
            "Epoch [1/5], Step [400/7500], Loss_G: 11.3826, Loss_D: 0.0000\n",
            "Epoch [1/5], Step [600/7500], Loss_G: 11.9009, Loss_D: 0.0000\n",
            "Epoch [1/5], Step [800/7500], Loss_G: 12.3843, Loss_D: 0.0000\n",
            "Epoch [1/5], Step [1000/7500], Loss_G: 12.6380, Loss_D: 0.0000\n",
            "Epoch [1/5], Step [1200/7500], Loss_G: 13.1102, Loss_D: 0.0000\n",
            "Epoch [1/5], Step [1400/7500], Loss_G: 12.1806, Loss_D: 0.0000\n",
            "Epoch [1/5], Step [1600/7500], Loss_G: 12.5795, Loss_D: 0.0000\n",
            "Epoch [1/5], Step [1800/7500], Loss_G: 12.8093, Loss_D: 0.0000\n",
            "Epoch [1/5], Step [2000/7500], Loss_G: 13.0404, Loss_D: 0.0000\n",
            "Epoch [1/5], Step [2200/7500], Loss_G: 13.2403, Loss_D: 0.0000\n",
            "Epoch [1/5], Step [2400/7500], Loss_G: 13.4672, Loss_D: 0.0000\n",
            "Epoch [1/5], Step [2600/7500], Loss_G: 13.6824, Loss_D: 0.0000\n",
            "Epoch [1/5], Step [2800/7500], Loss_G: 13.9112, Loss_D: 0.0000\n",
            "Epoch [1/5], Step [3000/7500], Loss_G: 14.1199, Loss_D: 0.0000\n",
            "Epoch [1/5], Step [3200/7500], Loss_G: 14.3226, Loss_D: 0.0000\n",
            "Epoch [1/5], Step [3400/7500], Loss_G: 14.5160, Loss_D: 0.0000\n",
            "Epoch [1/5], Step [3600/7500], Loss_G: 14.7076, Loss_D: 0.0000\n",
            "Epoch [1/5], Step [3800/7500], Loss_G: 14.8887, Loss_D: 0.0000\n",
            "Epoch [1/5], Step [4000/7500], Loss_G: 15.0606, Loss_D: 0.0000\n",
            "Epoch [1/5], Step [4200/7500], Loss_G: 15.2285, Loss_D: 0.0000\n",
            "Epoch [1/5], Step [4400/7500], Loss_G: 15.3917, Loss_D: 0.0000\n",
            "Epoch [1/5], Step [4600/7500], Loss_G: 15.5448, Loss_D: 0.0000\n",
            "Epoch [1/5], Step [4800/7500], Loss_G: 15.6961, Loss_D: 0.0000\n",
            "Epoch [1/5], Step [5000/7500], Loss_G: 15.8425, Loss_D: 0.0000\n",
            "Epoch [1/5], Step [5200/7500], Loss_G: 15.9803, Loss_D: 0.0000\n",
            "Epoch [1/5], Step [5400/7500], Loss_G: 16.1214, Loss_D: 0.0000\n",
            "Epoch [1/5], Step [5600/7500], Loss_G: 16.2589, Loss_D: 0.0000\n",
            "Epoch [1/5], Step [5800/7500], Loss_G: 16.3907, Loss_D: 0.0000\n",
            "Epoch [1/5], Step [6000/7500], Loss_G: 16.5163, Loss_D: 0.0000\n",
            "Epoch [1/5], Step [6200/7500], Loss_G: 16.6219, Loss_D: 0.0000\n",
            "Epoch [1/5], Step [6400/7500], Loss_G: 16.7527, Loss_D: 0.0000\n",
            "Epoch [1/5], Step [6600/7500], Loss_G: 16.8772, Loss_D: 0.0000\n",
            "Epoch [1/5], Step [6800/7500], Loss_G: 16.9977, Loss_D: 0.0000\n",
            "Epoch [1/5], Step [7000/7500], Loss_G: 17.1108, Loss_D: 0.0000\n",
            "Epoch [1/5], Step [7200/7500], Loss_G: 17.2141, Loss_D: 0.0000\n",
            "Epoch [1/5], Step [7400/7500], Loss_G: 17.3303, Loss_D: 0.0000\n",
            "Generated images saved for epoch 1\n",
            "Epoch [2/5], Step [200/7500], Loss_G: 17.4868, Loss_D: -0.0000\n",
            "Epoch [2/5], Step [400/7500], Loss_G: 17.5881, Loss_D: -0.0000\n",
            "Epoch [2/5], Step [600/7500], Loss_G: 17.5820, Loss_D: -0.0000\n",
            "Epoch [2/5], Step [800/7500], Loss_G: 17.7019, Loss_D: -0.0000\n",
            "Epoch [2/5], Step [1000/7500], Loss_G: 17.8189, Loss_D: -0.0000\n",
            "Epoch [2/5], Step [1200/7500], Loss_G: 17.9407, Loss_D: -0.0000\n",
            "Epoch [2/5], Step [1400/7500], Loss_G: 18.0606, Loss_D: -0.0000\n",
            "Epoch [2/5], Step [1600/7500], Loss_G: 18.1490, Loss_D: -0.0000\n",
            "Epoch [2/5], Step [1800/7500], Loss_G: 18.0606, Loss_D: -0.0000\n",
            "Epoch [2/5], Step [2000/7500], Loss_G: 18.1985, Loss_D: -0.0000\n",
            "Epoch [2/5], Step [2200/7500], Loss_G: 18.3339, Loss_D: -0.0000\n",
            "Epoch [2/5], Step [2400/7500], Loss_G: 18.4665, Loss_D: -0.0000\n",
            "Epoch [2/5], Step [2600/7500], Loss_G: 18.5656, Loss_D: -0.0000\n",
            "Epoch [2/5], Step [2800/7500], Loss_G: 18.6908, Loss_D: -0.0000\n",
            "Epoch [2/5], Step [3000/7500], Loss_G: 18.8119, Loss_D: -0.0000\n",
            "Epoch [2/5], Step [3200/7500], Loss_G: 18.9294, Loss_D: -0.0000\n",
            "Epoch [2/5], Step [3400/7500], Loss_G: 19.0446, Loss_D: -0.0000\n",
            "Epoch [2/5], Step [3600/7500], Loss_G: 19.1602, Loss_D: -0.0000\n",
            "Epoch [2/5], Step [3800/7500], Loss_G: 19.2508, Loss_D: -0.0000\n",
            "Epoch [2/5], Step [4000/7500], Loss_G: 19.3506, Loss_D: 0.0000\n",
            "Epoch [2/5], Step [4200/7500], Loss_G: 19.4541, Loss_D: -0.0000\n",
            "Epoch [2/5], Step [4400/7500], Loss_G: 19.5625, Loss_D: -0.0000\n",
            "Epoch [2/5], Step [4600/7500], Loss_G: 19.6630, Loss_D: -0.0000\n",
            "Epoch [2/5], Step [4800/7500], Loss_G: 19.7203, Loss_D: -0.0000\n",
            "Epoch [2/5], Step [5000/7500], Loss_G: 19.8149, Loss_D: -0.0000\n",
            "Epoch [2/5], Step [5200/7500], Loss_G: 19.7897, Loss_D: -0.0000\n",
            "Epoch [2/5], Step [5400/7500], Loss_G: 19.8971, Loss_D: -0.0000\n",
            "Epoch [2/5], Step [5600/7500], Loss_G: 19.9905, Loss_D: -0.0000\n",
            "Epoch [2/5], Step [5800/7500], Loss_G: 20.1031, Loss_D: -0.0000\n",
            "Epoch [2/5], Step [6000/7500], Loss_G: 20.2264, Loss_D: -0.0000\n",
            "Epoch [2/5], Step [6200/7500], Loss_G: 20.3321, Loss_D: -0.0000\n",
            "Epoch [2/5], Step [6400/7500], Loss_G: 20.4189, Loss_D: -0.0000\n",
            "Epoch [2/5], Step [6600/7500], Loss_G: 20.5173, Loss_D: -0.0000\n",
            "Epoch [2/5], Step [6800/7500], Loss_G: 20.5746, Loss_D: -0.0000\n",
            "Epoch [2/5], Step [7000/7500], Loss_G: 20.6694, Loss_D: -0.0000\n",
            "Epoch [2/5], Step [7200/7500], Loss_G: 20.7848, Loss_D: -0.0000\n",
            "Epoch [2/5], Step [7400/7500], Loss_G: 20.8730, Loss_D: -0.0000\n",
            "Generated images saved for epoch 2\n",
            "Epoch [3/5], Step [200/7500], Loss_G: 20.8757, Loss_D: -0.0000\n",
            "Epoch [3/5], Step [400/7500], Loss_G: 21.0327, Loss_D: -0.0000\n",
            "Epoch [3/5], Step [600/7500], Loss_G: 21.0621, Loss_D: -0.0000\n",
            "Epoch [3/5], Step [800/7500], Loss_G: 21.2135, Loss_D: -0.0000\n",
            "Epoch [3/5], Step [1000/7500], Loss_G: 21.3511, Loss_D: -0.0000\n",
            "Epoch [3/5], Step [1200/7500], Loss_G: 21.4473, Loss_D: -0.0000\n",
            "Epoch [3/5], Step [1400/7500], Loss_G: 21.5541, Loss_D: -0.0000\n",
            "Epoch [3/5], Step [1600/7500], Loss_G: 21.6740, Loss_D: -0.0000\n",
            "Epoch [3/5], Step [1800/7500], Loss_G: 21.7845, Loss_D: -0.0000\n",
            "Epoch [3/5], Step [2000/7500], Loss_G: 21.8804, Loss_D: -0.0000\n",
            "Epoch [3/5], Step [2200/7500], Loss_G: 21.8452, Loss_D: -0.0000\n",
            "Epoch [3/5], Step [2400/7500], Loss_G: 21.9807, Loss_D: -0.0000\n",
            "Epoch [3/5], Step [2600/7500], Loss_G: 22.0850, Loss_D: -0.0000\n",
            "Epoch [3/5], Step [2800/7500], Loss_G: 22.1807, Loss_D: -0.0000\n",
            "Epoch [3/5], Step [3000/7500], Loss_G: 22.2563, Loss_D: -0.0000\n",
            "Epoch [3/5], Step [3200/7500], Loss_G: 22.3779, Loss_D: -0.0000\n",
            "Epoch [3/5], Step [3400/7500], Loss_G: 22.4906, Loss_D: -0.0000\n",
            "Epoch [3/5], Step [3600/7500], Loss_G: 22.5620, Loss_D: -0.0000\n",
            "Epoch [3/5], Step [3800/7500], Loss_G: 22.6754, Loss_D: -0.0000\n",
            "Epoch [3/5], Step [4000/7500], Loss_G: 22.7806, Loss_D: -0.0000\n",
            "Epoch [3/5], Step [4200/7500], Loss_G: 20.9176, Loss_D: -0.0000\n",
            "Epoch [3/5], Step [4400/7500], Loss_G: 21.6625, Loss_D: -0.0000\n",
            "Epoch [3/5], Step [4600/7500], Loss_G: 22.0900, Loss_D: -0.0000\n",
            "Epoch [3/5], Step [4800/7500], Loss_G: 22.3737, Loss_D: -0.0000\n",
            "Epoch [3/5], Step [5000/7500], Loss_G: 22.6003, Loss_D: -0.0000\n",
            "Epoch [3/5], Step [5200/7500], Loss_G: 22.7968, Loss_D: -0.0000\n",
            "Epoch [3/5], Step [5400/7500], Loss_G: 22.9721, Loss_D: -0.0000\n",
            "Epoch [3/5], Step [5600/7500], Loss_G: 23.1265, Loss_D: -0.0000\n",
            "Epoch [3/5], Step [5800/7500], Loss_G: 23.2733, Loss_D: -0.0000\n",
            "Epoch [3/5], Step [6000/7500], Loss_G: 23.4111, Loss_D: -0.0000\n",
            "Epoch [3/5], Step [6200/7500], Loss_G: 23.5335, Loss_D: -0.0000\n",
            "Epoch [3/5], Step [6400/7500], Loss_G: 23.6458, Loss_D: -0.0000\n",
            "Epoch [3/5], Step [6600/7500], Loss_G: 23.7576, Loss_D: -0.0000\n",
            "Epoch [3/5], Step [6800/7500], Loss_G: 23.8658, Loss_D: -0.0000\n",
            "Epoch [3/5], Step [7000/7500], Loss_G: 23.9712, Loss_D: -0.0000\n",
            "Epoch [3/5], Step [7200/7500], Loss_G: 24.0726, Loss_D: -0.0000\n",
            "Epoch [3/5], Step [7400/7500], Loss_G: 24.1599, Loss_D: -0.0000\n",
            "Epoch [4/5], Step [200/7500], Loss_G: 24.2998, Loss_D: -0.0000\n",
            "Epoch [4/5], Step [400/7500], Loss_G: 24.3842, Loss_D: -0.0000\n",
            "Epoch [4/5], Step [600/7500], Loss_G: 24.4716, Loss_D: -0.0000\n",
            "Epoch [4/5], Step [800/7500], Loss_G: 24.5542, Loss_D: -0.0000\n",
            "Epoch [4/5], Step [1000/7500], Loss_G: 24.6341, Loss_D: -0.0000\n",
            "Epoch [4/5], Step [1200/7500], Loss_G: 24.7100, Loss_D: -0.0000\n",
            "Epoch [4/5], Step [1400/7500], Loss_G: 24.7793, Loss_D: -0.0000\n",
            "Epoch [4/5], Step [1600/7500], Loss_G: 24.8489, Loss_D: -0.0000\n",
            "Epoch [4/5], Step [1800/7500], Loss_G: 24.9213, Loss_D: -0.0000\n",
            "Epoch [4/5], Step [2000/7500], Loss_G: 24.9812, Loss_D: -0.0000\n",
            "Epoch [4/5], Step [2200/7500], Loss_G: 25.0489, Loss_D: -0.0000\n",
            "Epoch [4/5], Step [2400/7500], Loss_G: 25.1130, Loss_D: -0.0000\n",
            "Epoch [4/5], Step [2600/7500], Loss_G: 25.1775, Loss_D: -0.0000\n",
            "Epoch [4/5], Step [2800/7500], Loss_G: 25.2411, Loss_D: -0.0000\n",
            "Epoch [4/5], Step [3000/7500], Loss_G: 25.3046, Loss_D: -0.0000\n",
            "Epoch [4/5], Step [3200/7500], Loss_G: 25.3667, Loss_D: -0.0000\n",
            "Epoch [4/5], Step [3400/7500], Loss_G: 25.4270, Loss_D: -0.0000\n",
            "Epoch [4/5], Step [3600/7500], Loss_G: 25.4887, Loss_D: -0.0000\n",
            "Epoch [4/5], Step [3800/7500], Loss_G: 25.5459, Loss_D: -0.0000\n",
            "Epoch [4/5], Step [4000/7500], Loss_G: 25.6048, Loss_D: -0.0000\n",
            "Epoch [4/5], Step [4200/7500], Loss_G: 25.6627, Loss_D: -0.0000\n",
            "Epoch [4/5], Step [4400/7500], Loss_G: 25.7188, Loss_D: -0.0000\n",
            "Epoch [4/5], Step [4600/7500], Loss_G: 25.7768, Loss_D: -0.0000\n",
            "Epoch [4/5], Step [4800/7500], Loss_G: 25.8288, Loss_D: -0.0000\n",
            "Epoch [4/5], Step [5000/7500], Loss_G: 25.8834, Loss_D: -0.0000\n",
            "Epoch [4/5], Step [5200/7500], Loss_G: 25.9359, Loss_D: -0.0000\n",
            "Epoch [4/5], Step [5400/7500], Loss_G: 25.9883, Loss_D: -0.0000\n",
            "Epoch [4/5], Step [5600/7500], Loss_G: 26.0383, Loss_D: -0.0000\n",
            "Epoch [4/5], Step [5800/7500], Loss_G: 26.0880, Loss_D: -0.0000\n",
            "Epoch [4/5], Step [6000/7500], Loss_G: 26.1370, Loss_D: -0.0000\n",
            "Epoch [4/5], Step [6200/7500], Loss_G: 25.3067, Loss_D: -0.0000\n",
            "Epoch [4/5], Step [6400/7500], Loss_G: 25.4095, Loss_D: -0.0000\n",
            "Epoch [4/5], Step [6600/7500], Loss_G: 25.5068, Loss_D: -0.0000\n",
            "Epoch [4/5], Step [6800/7500], Loss_G: 25.5993, Loss_D: -0.0000\n",
            "Epoch [4/5], Step [7000/7500], Loss_G: 25.6869, Loss_D: -0.0000\n",
            "Epoch [4/5], Step [7200/7500], Loss_G: 25.7687, Loss_D: -0.0000\n",
            "Epoch [4/5], Step [7400/7500], Loss_G: 25.8462, Loss_D: -0.0000\n",
            "Epoch [5/5], Step [200/7500], Loss_G: 25.9527, Loss_D: -0.0000\n",
            "Epoch [5/5], Step [400/7500], Loss_G: 26.0124, Loss_D: -0.0000\n",
            "Epoch [5/5], Step [600/7500], Loss_G: 26.0803, Loss_D: -0.0000\n",
            "Epoch [5/5], Step [800/7500], Loss_G: 26.1436, Loss_D: -0.0000\n",
            "Epoch [5/5], Step [1000/7500], Loss_G: 26.1992, Loss_D: -0.0000\n",
            "Epoch [5/5], Step [1200/7500], Loss_G: 26.2608, Loss_D: -0.0000\n",
            "Epoch [5/5], Step [1400/7500], Loss_G: 26.3106, Loss_D: -0.0000\n",
            "Epoch [5/5], Step [1600/7500], Loss_G: 26.3682, Loss_D: -0.0000\n",
            "Epoch [5/5], Step [1800/7500], Loss_G: 26.4188, Loss_D: -0.0000\n",
            "Epoch [5/5], Step [2000/7500], Loss_G: 26.4655, Loss_D: -0.0000\n",
            "Epoch [5/5], Step [2200/7500], Loss_G: 26.5120, Loss_D: -0.0000\n",
            "Epoch [5/5], Step [2400/7500], Loss_G: 26.5516, Loss_D: -0.0000\n",
            "Epoch [5/5], Step [2600/7500], Loss_G: 26.5965, Loss_D: -0.0000\n",
            "Epoch [5/5], Step [2800/7500], Loss_G: 26.6375, Loss_D: -0.0000\n",
            "Epoch [5/5], Step [3000/7500], Loss_G: 26.6785, Loss_D: -0.0000\n",
            "Epoch [5/5], Step [3200/7500], Loss_G: 26.7141, Loss_D: -0.0000\n",
            "Epoch [5/5], Step [3400/7500], Loss_G: 26.7506, Loss_D: -0.0000\n",
            "Epoch [5/5], Step [3600/7500], Loss_G: 26.7839, Loss_D: -0.0000\n",
            "Epoch [5/5], Step [3800/7500], Loss_G: 26.8173, Loss_D: -0.0000\n",
            "Epoch [5/5], Step [4000/7500], Loss_G: 26.8499, Loss_D: -0.0000\n",
            "Epoch [5/5], Step [4200/7500], Loss_G: 26.8811, Loss_D: -0.0000\n",
            "Epoch [5/5], Step [4400/7500], Loss_G: 26.9092, Loss_D: -0.0000\n",
            "Epoch [5/5], Step [4600/7500], Loss_G: 26.9402, Loss_D: -0.0000\n",
            "Epoch [5/5], Step [4800/7500], Loss_G: 26.9684, Loss_D: -0.0000\n",
            "Epoch [5/5], Step [5000/7500], Loss_G: 26.9958, Loss_D: -0.0000\n",
            "Epoch [5/5], Step [5200/7500], Loss_G: 27.0235, Loss_D: -0.0000\n",
            "Epoch [5/5], Step [5400/7500], Loss_G: 27.0476, Loss_D: -0.0000\n",
            "Epoch [5/5], Step [5600/7500], Loss_G: 27.0740, Loss_D: -0.0000\n",
            "Epoch [5/5], Step [5800/7500], Loss_G: 27.1029, Loss_D: -0.0000\n",
            "Epoch [5/5], Step [6000/7500], Loss_G: 27.1253, Loss_D: -0.0000\n",
            "Epoch [5/5], Step [6200/7500], Loss_G: 27.1519, Loss_D: -0.0000\n",
            "Epoch [5/5], Step [6400/7500], Loss_G: 27.1749, Loss_D: -0.0000\n",
            "Epoch [5/5], Step [6600/7500], Loss_G: 27.2008, Loss_D: -0.0000\n",
            "Epoch [5/5], Step [6800/7500], Loss_G: 27.2185, Loss_D: -0.0000\n",
            "Epoch [5/5], Step [7000/7500], Loss_G: 27.2444, Loss_D: -0.0000\n",
            "Epoch [5/5], Step [7200/7500], Loss_G: 27.2678, Loss_D: -0.0000\n",
            "Epoch [5/5], Step [7400/7500], Loss_G: 27.2921, Loss_D: -0.0000\n",
            "Generated images saved for epoch 5\n"
          ]
        }
      ]
    },
    {
      "cell_type": "code",
      "source": [
        "import matplotlib.pyplot as plt  # Import matplotlib for plotting\n",
        "\n",
        "# (d) Plotting the Loss\n",
        "plt.figure(figsize=(10, 5))  # Create a new figure with specified size\n",
        "plt.title(\"Generator and Discriminator Loss During Training\")  # Set the title of the plot\n",
        "plt.plot(g_losses, label=\"G\")  # Plot generator loss with label \"G\"\n",
        "plt.plot(d_losses, label=\"D\")  # Plot discriminator loss with label \"D\"\n",
        "plt.xlabel(\"Iterations\")  # Label for the x-axis\n",
        "plt.ylabel(\"Loss\")  # Label for the y-axis\n",
        "plt.legend()  # Show legend to identify G and D\n",
        "\n",
        "# Save the loss plot to a file\n",
        "plt.savefig(os.path.join('./', \"loss_plot.png\"))\n",
        "print(\"Loss plot saved\")  # Print a confirmation message\n",
        "\n",
        "plt.show()  # Display the plot"
      ],
      "metadata": {
        "colab": {
          "base_uri": "https://localhost:8080/",
          "height": 488
        },
        "id": "cMbDBeP15Xpb",
        "outputId": "ce53b291-5746-432b-f080-0129ccf73ee0"
      },
      "execution_count": null,
      "outputs": [
        {
          "output_type": "stream",
          "name": "stdout",
          "text": [
            "Loss plot saved\n"
          ]
        },
        {
          "output_type": "display_data",
          "data": {
            "text/plain": [
              "<Figure size 1000x500 with 1 Axes>"
            ],
            "image/png": "[encoded data removed]"
          },
          "metadata": {}
        }
      ]
    },
    {
      "cell_type": "code",
      "source": [
        "print(latent_dim)\n",
        "print(batch_size)\n",
        "print(real_images.size(0))"
      ],
      "metadata": {
        "colab": {
          "base_uri": "https://localhost:8080/"
        },
        "id": "wCI17oKIm6By",
        "outputId": "a656d1fa-e295-4098-9e81-3d2200d65c6a"
      },
      "execution_count": null,
      "outputs": [
        {
          "output_type": "stream",
          "name": "stdout",
          "text": [
            "64\n",
            "8\n",
            "8\n"
          ]
        }
      ]
    },
    {
      "cell_type": "code",
      "source": [
        "\n",
        "# Create real images directory\n",
        "os.makedirs(\"./real_images\", exist_ok=True)\n",
        "for i, (img, _) in enumerate(dataset):\n",
        "    if i >= 5000:\n",
        "        break\n",
        "    plt.imsave(f\"./real_images/{i}.png\", img.squeeze().numpy(), cmap='gray')\n",
        "\n",
        "\n",
        "fake_images = []\n",
        "for _ in range(100):  # 100 * batch_size = 12800 > 5000\n",
        "    z = torch.randn(batch_size,latent_dim,).to(device)\n",
        "    fake = generator(z).cpu().detach()\n",
        "    print(fake.shape)\n",
        "    fake_images.append(fake)\n",
        "fake_images = torch.cat(fake_images)[:5000]  # انتخاب 5000 نمونه\n",
        "\n",
        "# ذخیره در پوشه\n",
        "os.makedirs(\"./fake_images\", exist_ok=True)\n",
        "for i, img in enumerate(fake_images):\n",
        "    plt.imsave(f\"./fake_images/{i}.png\", img.squeeze(), cmap='gray')\n",
        "# Verify paths\n",
        "print(f\"Real images: {len(os.listdir('./real_images'))}\")\n",
        "print(f\"Fake images: {len(os.listdir('./fake_images'))}\")\n",
        "\n",
        "# Calculate FID\n",
        "fid_value = fid_score.calculate_fid_given_paths(\n",
        "    [\"./real_images\", \"./fake_images\"],\n",
        "    batch_size=50,\n",
        "    device=device,\n",
        "    dims=2048\n",
        ")\n",
        "print(f\"FID Score: {fid_value:.2f}\")"
      ],
      "metadata": {
        "colab": {
          "base_uri": "https://localhost:8080/"
        },
        "id": "Qg1Z9evq5aKj",
        "outputId": "e63cffe2-bb6d-4687-82ff-3bcb87b73913"
      },
      "execution_count": null,
      "outputs": [
        {
          "output_type": "stream",
          "name": "stdout",
          "text": [
            "torch.Size([8, 1, 28, 28])\n",
            "torch.Size([8, 1, 28, 28])\n",
            "torch.Size([8, 1, 28, 28])\n",
            "torch.Size([8, 1, 28, 28])\n",
            "torch.Size([8, 1, 28, 28])\n",
            "torch.Size([8, 1, 28, 28])\n",
            "torch.Size([8, 1, 28, 28])\n",
            "torch.Size([8, 1, 28, 28])\n",
            "torch.Size([8, 1, 28, 28])\n",
            "torch.Size([8, 1, 28, 28])\n",
            "torch.Size([8, 1, 28, 28])\n",
            "torch.Size([8, 1, 28, 28])\n",
            "torch.Size([8, 1, 28, 28])\n",
            "torch.Size([8, 1, 28, 28])\n",
            "torch.Size([8, 1, 28, 28])\n",
            "torch.Size([8, 1, 28, 28])\n",
            "torch.Size([8, 1, 28, 28])\n",
            "torch.Size([8, 1, 28, 28])\n",
            "torch.Size([8, 1, 28, 28])\n",
            "torch.Size([8, 1, 28, 28])\n",
            "torch.Size([8, 1, 28, 28])\n",
            "torch.Size([8, 1, 28, 28])\n",
            "torch.Size([8, 1, 28, 28])\n",
            "torch.Size([8, 1, 28, 28])\n",
            "torch.Size([8, 1, 28, 28])\n",
            "torch.Size([8, 1, 28, 28])\n",
            "torch.Size([8, 1, 28, 28])\n",
            "torch.Size([8, 1, 28, 28])\n",
            "torch.Size([8, 1, 28, 28])\n",
            "torch.Size([8, 1, 28, 28])\n",
            "torch.Size([8, 1, 28, 28])\n",
            "torch.Size([8, 1, 28, 28])\n",
            "torch.Size([8, 1, 28, 28])\n",
            "torch.Size([8, 1, 28, 28])\n",
            "torch.Size([8, 1, 28, 28])\n",
            "torch.Size([8, 1, 28, 28])\n",
            "torch.Size([8, 1, 28, 28])\n",
            "torch.Size([8, 1, 28, 28])\n",
            "torch.Size([8, 1, 28, 28])\n",
            "torch.Size([8, 1, 28, 28])\n",
            "torch.Size([8, 1, 28, 28])\n",
            "torch.Size([8, 1, 28, 28])\n",
            "torch.Size([8, 1, 28, 28])\n",
            "torch.Size([8, 1, 28, 28])\n",
            "torch.Size([8, 1, 28, 28])\n",
            "torch.Size([8, 1, 28, 28])\n",
            "torch.Size([8, 1, 28, 28])\n",
            "torch.Size([8, 1, 28, 28])\n",
            "torch.Size([8, 1, 28, 28])\n",
            "torch.Size([8, 1, 28, 28])\n",
            "torch.Size([8, 1, 28, 28])\n",
            "torch.Size([8, 1, 28, 28])\n",
            "torch.Size([8, 1, 28, 28])\n",
            "torch.Size([8, 1, 28, 28])\n",
            "torch.Size([8, 1, 28, 28])\n",
            "torch.Size([8, 1, 28, 28])\n",
            "torch.Size([8, 1, 28, 28])\n",
            "torch.Size([8, 1, 28, 28])\n",
            "torch.Size([8, 1, 28, 28])\n",
            "torch.Size([8, 1, 28, 28])\n",
            "torch.Size([8, 1, 28, 28])\n",
            "torch.Size([8, 1, 28, 28])\n",
            "torch.Size([8, 1, 28, 28])\n",
            "torch.Size([8, 1, 28, 28])\n",
            "torch.Size([8, 1, 28, 28])\n",
            "torch.Size([8, 1, 28, 28])\n",
            "torch.Size([8, 1, 28, 28])\n",
            "torch.Size([8, 1, 28, 28])\n",
            "torch.Size([8, 1, 28, 28])\n",
            "torch.Size([8, 1, 28, 28])\n",
            "torch.Size([8, 1, 28, 28])\n",
            "torch.Size([8, 1, 28, 28])\n",
            "torch.Size([8, 1, 28, 28])\n",
            "torch.Size([8, 1, 28, 28])\n",
            "torch.Size([8, 1, 28, 28])\n",
            "torch.Size([8, 1, 28, 28])\n",
            "torch.Size([8, 1, 28, 28])\n",
            "torch.Size([8, 1, 28, 28])\n",
            "torch.Size([8, 1, 28, 28])\n",
            "torch.Size([8, 1, 28, 28])\n",
            "torch.Size([8, 1, 28, 28])\n",
            "torch.Size([8, 1, 28, 28])\n",
            "torch.Size([8, 1, 28, 28])\n",
            "torch.Size([8, 1, 28, 28])\n",
            "torch.Size([8, 1, 28, 28])\n",
            "torch.Size([8, 1, 28, 28])\n",
            "torch.Size([8, 1, 28, 28])\n",
            "torch.Size([8, 1, 28, 28])\n",
            "torch.Size([8, 1, 28, 28])\n",
            "torch.Size([8, 1, 28, 28])\n",
            "torch.Size([8, 1, 28, 28])\n",
            "torch.Size([8, 1, 28, 28])\n",
            "torch.Size([8, 1, 28, 28])\n",
            "torch.Size([8, 1, 28, 28])\n",
            "torch.Size([8, 1, 28, 28])\n",
            "torch.Size([8, 1, 28, 28])\n",
            "torch.Size([8, 1, 28, 28])\n",
            "torch.Size([8, 1, 28, 28])\n",
            "torch.Size([8, 1, 28, 28])\n",
            "torch.Size([8, 1, 28, 28])\n",
            "Real images: 5000\n",
            "Fake images: 5000\n"
          ]
        },
        {
          "output_type": "stream",
          "name": "stderr",
          "text": [
            "100%|██████████| 100/100 [00:19<00:00,  5.16it/s]\n",
            "100%|██████████| 100/100 [00:19<00:00,  5.15it/s]\n"
          ]
        },
        {
          "output_type": "stream",
          "name": "stdout",
          "text": [
            "FID Score: 287.96\n"
          ]
        }
      ]
    },
    {
      "cell_type": "code",
      "source": [
        "print(f\"real_images.shape: {real_images.shape}\")\n",
        "print(f\"fake_images.shape: {fake_images.shape}\")"
      ],
      "metadata": {
        "colab": {
          "base_uri": "https://localhost:8080/"
        },
        "id": "aH9yuYj2-sSy",
        "outputId": "97fd736a-e868-46d0-e6bc-aed17991a42a"
      },
      "execution_count": null,
      "outputs": [
        {
          "output_type": "stream",
          "name": "stdout",
          "text": [
            "real_images.shape: torch.Size([8, 1, 28, 28])\n",
            "fake_images.shape: torch.Size([800, 1, 28, 28])\n"
          ]
        }
      ]
    },
    {
      "cell_type": "code",
      "source": [
        "print(latent_dim)\n",
        "print(batch_size)\n",
        "print(real_images.size(0))"
      ],
      "metadata": {
        "colab": {
          "base_uri": "https://localhost:8080/"
        },
        "id": "C-07B-GKItnA",
        "outputId": "1e5d28dd-82cd-4bc7-b65b-0dcb605c5421"
      },
      "execution_count": null,
      "outputs": [
        {
          "output_type": "stream",
          "name": "stdout",
          "text": [
            "64\n",
            "8\n",
            "8\n"
          ]
        }
      ]
    },
    {
      "cell_type": "code",
      "source": [
        "import torch.autograd as autograd\n",
        "\n",
        "# Function to compute the gradient penalty\n",
        "def gradient_penalty(critic, real_images, fake_images, device):\n",
        "    batch_size = real_images.size(0)\n",
        "    alpha = torch.rand(batch_size, 1, 1, 1).to(device)  # Randomly sample alpha values\n",
        "\n",
        "    # Create interpolates between real and fake images\n",
        "    interpolates = (alpha * real_images + (1 - alpha) * fake_images).requires_grad_(True)\n",
        "\n",
        "    # Get the critic's output for the interpolated images\n",
        "    critic_interpolates = critic(interpolates)\n",
        "\n",
        "    # Compute gradients of the critic's output with respect to the interpolates\n",
        "    gradients = autograd.grad(\n",
        "        outputs=critic_interpolates,\n",
        "        inputs=interpolates,\n",
        "        grad_outputs=torch.ones_like(critic_interpolates),  # Gradient of outputs w.r.t. the critic's output\n",
        "        create_graph=True,  # Allow gradients to be computed for higher order\n",
        "        retain_graph=True,  # Retain the graph for further backward passes\n",
        "    )[0]\n",
        "\n",
        "    # Reshape gradients to be of shape (batch_size, -1)\n",
        "    gradients = gradients.view(gradients.size(0), -1)\n",
        "\n",
        "    # Compute the gradient penalty\n",
        "    penalty = ((gradients.norm(2, dim=1) - 1) ** 2).mean()  # Penalty term for WGAN-GP\n",
        "    return penalty  # Return the computed gradient penalty\n",
        "# Function to compute the discriminator's loss\n",
        "def discriminator_loss(real_scores, fake_scores, gp, lambda_gp=10):\n",
        "    # WGAN-GP loss for the discriminator/critic\n",
        "    return -torch.mean(real_scores) + torch.mean(fake_scores) + lambda_gp * gp\n",
        "    # -mean(real_scores): Encourages the critic to output higher scores for real images\n",
        "    # mean(fake_scores): Encourages the critic to output lower scores for fake images\n",
        "    # lambda_gp * gp: Adds the gradient penalty to stabilize training\n",
        "\n",
        "# Function to compute the generator's loss\n",
        "def generator_loss(fake_scores):\n",
        "    # WGAN-GP loss for the generator\n",
        "    return -torch.mean(fake_scores)  # Encourages the generator to produce images that get high scores from the critic"
      ],
      "metadata": {
        "id": "MREFJvnyJTzV"
      },
      "execution_count": null,
      "outputs": []
    },
    {
      "cell_type": "code",
      "source": [
        "import torch.nn as nn  # Import the PyTorch neural network module\n",
        "\n",
        "### Cell 2: Define the architecture of the Critic (Discriminator)\n",
        "class Critic(nn.Module):\n",
        "    def __init__(self):\n",
        "        super().__init__()  # Initialize the base class\n",
        "\n",
        "        # Define the model architecture as a sequential container\n",
        "        self.main = nn.Sequential(\n",
        "            nn.Conv2d(1, 32, kernel_size=4, stride=2, padding=1),  # First conv layer: 1 input channel -> 32 output channels\n",
        "            nn.LeakyReLU(0.2),  # Leaky ReLU activation with negative slope 0.2\n",
        "\n",
        "            nn.Conv2d(32, 64, kernel_size=4, stride=2, padding=1),  # Second conv layer: 32 -> 64 channels\n",
        "            nn.LeakyReLU(0.2),  # Leaky ReLU activation\n",
        "\n",
        "            nn.Flatten(),  # Flatten the output from the conv layers for the fully connected layers\n",
        "\n",
        "            nn.Linear(64 * 7 * 7, 512),  # First fully connected layer: 64*7*7 inputs -> 512 outputs\n",
        "            nn.LeakyReLU(0.2),  # Leaky ReLU activation\n",
        "\n",
        "            nn.Linear(512, 1)  # Final layer outputs a single score (critic's score for the input)\n",
        "            # Note: No Sigmoid activation here, as WGAN uses raw scores for the Wasserstein distance\n",
        "        )\n",
        "\n",
        "    def forward(self, x):\n",
        "        return self.main(x)  # Pass the input through the defined architecture"
      ],
      "metadata": {
        "id": "I2PU-10Ku67P"
      },
      "execution_count": null,
      "outputs": []
    },
    {
      "cell_type": "code",
      "source": [
        "n_critic = 7  # کمتر کردن تعداد آموزش Critic\n",
        "lambda_gp = 10  # مقدار معمول\n",
        "d_losses = []\n",
        "g_losses = []\n",
        "\n",
        "for epoch in range(num_epochs):\n",
        "    for i, (real_images, _) in enumerate(dataloader):\n",
        "        real_images = real_images.to(device)\n",
        "\n",
        "        # Train the Critic\n",
        "        for _ in range(n_critic):\n",
        "            optimizer_D.zero_grad()\n",
        "\n",
        "            # Generate fake images\n",
        "            z = torch.randn(real_images.size(0), latent_dim).to(device)\n",
        "            fake_images = generator(z)\n",
        "\n",
        "            # Compute the gradient penalty\n",
        "            gp = gradient_penalty(discriminator, real_images, fake_images, device)\n",
        "\n",
        "            # Compute the Critic's scores for real and fake images\n",
        "            real_scores = discriminator(real_images)\n",
        "            fake_scores = discriminator(fake_images)\n",
        "\n",
        "            # Compute the Critic loss\n",
        "            d_loss = discriminator_loss(real_scores, fake_scores, gp, lambda_gp)\n",
        "\n",
        "            # Backpropagate and optimize the Critic\n",
        "            d_loss.backward()\n",
        "            optimizer_D.step()\n",
        "\n",
        "            d_losses.append(d_loss.item())\n",
        "\n",
        "        # Train the Generator\n",
        "        optimizer_G.zero_grad()\n",
        "\n",
        "        z = torch.randn(real_images.size(0), latent_dim).to(device)\n",
        "        fake_images = generator(z)\n",
        "        fake_scores = discriminator(fake_images)\n",
        "\n",
        "        # Compute the Generator loss\n",
        "        g_loss = generator_loss(fake_scores)\n",
        "\n",
        "        # Backpropagate and optimize the Generator\n",
        "        g_loss.backward()\n",
        "        optimizer_G.step()\n",
        "\n",
        "        g_losses.append(g_loss.item())\n",
        "\n",
        "        if (i + 1) % 200 == 0:\n",
        "            print(\n",
        "                f\"Epoch [{epoch + 1}/{num_epochs}], Step [{i + 1}/{len(dataloader)}], \"\n",
        "                f\"Loss_D: {d_loss.item():.4f}, Loss_G: {g_loss.item():.4f}\"\n",
        "            )"
      ],
      "metadata": {
        "colab": {
          "base_uri": "https://localhost:8080/"
        },
        "id": "jgitsfJ-LJIj",
        "outputId": "7b720454-8099-4c27-c842-b3f2c5060640"
      },
      "execution_count": null,
      "outputs": [
        {
          "output_type": "stream",
          "name": "stdout",
          "text": [
            "Epoch [1/5], Step [200/7500], Loss_D: -0.3996, Loss_G: -0.0593\n",
            "Epoch [1/5], Step [400/7500], Loss_D: -0.5999, Loss_G: -0.0477\n",
            "Epoch [1/5], Step [600/7500], Loss_D: -0.7154, Loss_G: -0.0348\n",
            "Epoch [1/5], Step [800/7500], Loss_D: -0.8352, Loss_G: -0.0100\n",
            "Epoch [1/5], Step [1000/7500], Loss_D: -0.8087, Loss_G: -0.0223\n",
            "Epoch [1/5], Step [1200/7500], Loss_D: -0.7688, Loss_G: -0.0416\n",
            "Epoch [1/5], Step [1400/7500], Loss_D: -0.7955, Loss_G: -0.0114\n",
            "Epoch [1/5], Step [1600/7500], Loss_D: -0.8327, Loss_G: -0.0078\n",
            "Epoch [1/5], Step [1800/7500], Loss_D: -0.7931, Loss_G: -0.0181\n",
            "Epoch [1/5], Step [2000/7500], Loss_D: -0.8278, Loss_G: -0.0218\n",
            "Epoch [1/5], Step [2200/7500], Loss_D: -0.8588, Loss_G: -0.0152\n",
            "Epoch [1/5], Step [2400/7500], Loss_D: -0.8840, Loss_G: -0.0135\n",
            "Epoch [1/5], Step [2600/7500], Loss_D: -0.7475, Loss_G: -0.0194\n",
            "Epoch [1/5], Step [2800/7500], Loss_D: -0.8948, Loss_G: -0.0136\n",
            "Epoch [1/5], Step [3000/7500], Loss_D: -0.9161, Loss_G: -0.0059\n",
            "Epoch [1/5], Step [3200/7500], Loss_D: -0.8750, Loss_G: -0.0083\n",
            "Epoch [1/5], Step [3400/7500], Loss_D: -0.8818, Loss_G: -0.0218\n",
            "Epoch [1/5], Step [3600/7500], Loss_D: -0.8393, Loss_G: -0.0155\n",
            "Epoch [1/5], Step [3800/7500], Loss_D: -0.7929, Loss_G: -0.0090\n",
            "Epoch [1/5], Step [4000/7500], Loss_D: -0.9100, Loss_G: -0.0058\n",
            "Epoch [1/5], Step [4200/7500], Loss_D: -0.8142, Loss_G: -0.0138\n",
            "Epoch [1/5], Step [4400/7500], Loss_D: -0.8199, Loss_G: -0.0026\n",
            "Epoch [1/5], Step [4600/7500], Loss_D: -0.8647, Loss_G: -0.0203\n"
          ]
        }
      ]
    },
    {
      "cell_type": "code",
      "source": [
        "import matplotlib.pyplot as plt  # Import matplotlib for plotting\n",
        "\n",
        "# Plotting the losses\n",
        "plt.plot(d_losses, label='D Loss')  # Plot the Discriminator loss\n",
        "plt.plot(g_losses, label='G Loss')  # Plot the Generator loss\n",
        "plt.xlabel('Iterations')  # Label for the x-axis\n",
        "plt.ylabel('Loss')  # Label for the y-axis\n",
        "plt.legend()  # Show legend to differentiate between D and G losses\n",
        "plt.title('Losses during Training')  # Set the title of the plot\n",
        "plt.show()  # Display the plot"
      ],
      "metadata": {
        "colab": {
          "base_uri": "https://localhost:8080/",
          "height": 472
        },
        "id": "ooi2JCP0Ltc-",
        "outputId": "9ea6b4a5-0f38-4074-88b1-94e4962514da"
      },
      "execution_count": null,
      "outputs": [
        {
          "output_type": "display_data",
          "data": {
            "text/plain": [
              "<Figure size 640x480 with 1 Axes>"
            ],
            "image/png": "[encoded data removed]"
          },
          "metadata": {}
        }
      ]
    },
    {
      "cell_type": "code",
      "source": [
        "print(latent_dim)\n",
        "print(batch_size)\n",
        "print(real_images.size(0))"
      ],
      "metadata": {
        "colab": {
          "base_uri": "https://localhost:8080/"
        },
        "id": "Wqj2CX4gPDZe",
        "outputId": "f36a5542-53f0-44c1-9685-10c659903c51"
      },
      "execution_count": null,
      "outputs": [
        {
          "output_type": "stream",
          "name": "stdout",
          "text": [
            "64\n",
            "64\n",
            "256\n"
          ]
        }
      ]
    },
    {
      "cell_type": "code",
      "source": [
        "# مسیر پوشه‌های تصاویر واقعی و ساختگی\n",
        "real_images_path = \"./real_images\"\n",
        "fake_images_path = \"./fake_images\"\n",
        "\n",
        "# محاسبه FID\n",
        "fid_value = fid_score.calculate_fid_given_paths(\n",
        "    [real_images_path, fake_images_path],\n",
        "    batch_size=50,\n",
        "    device=device,  # مثلاً 'cuda' یا 'cpu'\n",
        "    dims=2048\n",
        ")\n",
        "\n",
        "print(f\"FID Score: {fid_value:.2f}\")"
      ],
      "metadata": {
        "colab": {
          "base_uri": "https://localhost:8080/"
        },
        "id": "5bb1QyZ7tEnI",
        "outputId": "877270a0-e649-456f-8dde-ad64c4be47c6"
      },
      "execution_count": null,
      "outputs": [
        {
          "output_type": "stream",
          "name": "stderr",
          "text": [
            "100%|██████████| 100/100 [00:19<00:00,  5.14it/s]\n",
            "100%|██████████| 100/100 [00:19<00:00,  5.16it/s]\n"
          ]
        },
        {
          "output_type": "stream",
          "name": "stdout",
          "text": [
            "FID Score: 281.44\n"
          ]
        }
      ]
    },
    {
      "cell_type": "code",
      "source": [
        "\n",
        "### Cell 4: Define Residual Block for Generator\n",
        "class ResidualBlockG(nn.Module):\n",
        "    def __init__(self, in_channels, out_channels, upsample=True):\n",
        "        super().__init__()\n",
        "        self.upsample = upsample  # Flag to determine whether to upsample\n",
        "\n",
        "        # Define the main block of the residual block\n",
        "        self.block = nn.Sequential(\n",
        "            nn.BatchNorm2d(in_channels),  # Batch normalization\n",
        "            nn.ReLU(),  # ReLU activation\n",
        "            nn.Upsample(scale_factor=2, mode='nearest') if upsample else nn.Identity(),  # Upsampling if needed\n",
        "            nn.Conv2d(in_channels, out_channels, kernel_size=3, padding=1),  # First convolution\n",
        "            nn.BatchNorm2d(out_channels),  # Batch normalization\n",
        "            nn.ReLU(),  # ReLU activation\n",
        "            nn.Conv2d(out_channels, out_channels, kernel_size=3, padding=1)  # Second convolution\n",
        "        )\n",
        "\n",
        "        # Define the shortcut connection\n",
        "        self.shortcut = nn.Sequential(\n",
        "            nn.Upsample(scale_factor=2, mode='nearest') if upsample else nn.Identity(),  # Upsampling if needed\n",
        "            nn.Conv2d(in_channels, out_channels, kernel_size=1)  # 1x1 convolution for matching dimensions\n",
        "        )\n",
        "\n",
        "    def forward(self, x):\n",
        "        # Return the sum of the main block output and the shortcut connection\n",
        "        return self.block(x) + self.shortcut(x)\n",
        "\n",
        "\n",
        "### Cell 5: Implement Generator with Architecture from Table 4\n",
        "class SSGenerator(nn.Module):\n",
        "    def __init__(self, latent_dim=128):\n",
        "        super().__init__()\n",
        "        # Initial layer to project the latent vector\n",
        "        self.init_layer = nn.Sequential(\n",
        "            nn.Linear(latent_dim, 256 * 4 * 4),  # Fully connected layer to expand latent vector\n",
        "            nn.BatchNorm1d(256 * 4 * 4),  # Batch normalization\n",
        "            nn.ReLU()  # ReLU activation\n",
        "        )\n",
        "\n",
        "        # Residual blocks to upscale and refine the generated images\n",
        "        self.res_blocks = nn.Sequential(\n",
        "            ResidualBlockG(256, 256, upsample=True),  # First residual block\n",
        "            ResidualBlockG(256, 256, upsample=True),  # Second residual block\n",
        "            ResidualBlockG(256, 256, upsample=True)   # Third residual block\n",
        "        )\n",
        "\n",
        "        # Final layers to produce the output image\n",
        "        self.final_layers = nn.Sequential(\n",
        "            nn.BatchNorm2d(256),  # Batch normalization\n",
        "            nn.ReLU(),  # ReLU activation\n",
        "            nn.Conv2d(256, 1, kernel_size=3, padding=1),  # Final convolution to reduce channels to 1 (grayscale image)\n",
        "            nn.Tanh()  # Tanh activation to output values in the range [-1, 1]\n",
        "        )\n",
        "\n",
        "    def forward(self, z):\n",
        "        # Forward pass through the generator\n",
        "        x = self.init_layer(z)  # Pass latent vector through initial layer\n",
        "        x = x.view(-1, 256, 4, 4)  # Reshape to (batch_size, channels, height, width)\n",
        "        x = self.res_blocks(x)  # Pass through residual blocks\n",
        "        return self.final_layers(x)  # Pass through final layers to get output image"
      ],
      "metadata": {
        "id": "883K7pkeOwXD"
      },
      "execution_count": null,
      "outputs": []
    },
    {
      "cell_type": "code",
      "source": [
        "print(latent_dim)\n",
        "print(batch_size)\n",
        "print(real_images.size(0))"
      ],
      "metadata": {
        "colab": {
          "base_uri": "https://localhost:8080/"
        },
        "id": "JBI7uPF-PFU9",
        "outputId": "08881de8-31c8-48c7-af0d-0103a4e380db"
      },
      "execution_count": null,
      "outputs": [
        {
          "output_type": "stream",
          "name": "stdout",
          "text": [
            "64\n",
            "256\n",
            "256\n"
          ]
        }
      ]
    }
  ]
}