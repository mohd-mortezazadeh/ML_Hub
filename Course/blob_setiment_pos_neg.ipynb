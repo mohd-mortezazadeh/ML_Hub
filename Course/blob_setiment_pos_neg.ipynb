{
  "nbformat": 4,
  "nbformat_minor": 0,
  "metadata": {
    "colab": {
      "provenance": [],
      "authorship_tag": "ABX9TyMJQb7bvKS74wOtDvhCKSzo",
      "include_colab_link": true
    },
    "kernelspec": {
      "name": "python3",
      "display_name": "Python 3"
    },
    "language_info": {
      "name": "python"
    }
  },
  "cells": [
    {
      "cell_type": "markdown",
      "metadata": {
        "id": "view-in-github",
        "colab_type": "text"
      },
      "source": [
        "<a href=\"https://colab.research.google.com/github/pydevcasts/MLHub/blob/master/blob_setiment_pos_neg.ipynb\" target=\"_parent\"><img src=\"https://colab.research.google.com/assets/colab-badge.svg\" alt=\"Open In Colab\"/></a>"
      ]
    },
    {
      "cell_type": "code",
      "source": [
        "!pip install textblob"
      ],
      "metadata": {
        "colab": {
          "base_uri": "https://localhost:8080/"
        },
        "id": "EnWtxODyMQDh",
        "outputId": "3c9549b2-f497-40d9-bed3-304b8c8f4470"
      },
      "execution_count": null,
      "outputs": [
        {
          "output_type": "stream",
          "name": "stdout",
          "text": [
            "Requirement already satisfied: textblob in /usr/local/lib/python3.11/dist-packages (0.19.0)\n",
            "Requirement already satisfied: nltk>=3.9 in /usr/local/lib/python3.11/dist-packages (from textblob) (3.9.1)\n",
            "Requirement already satisfied: click in /usr/local/lib/python3.11/dist-packages (from nltk>=3.9->textblob) (8.1.8)\n",
            "Requirement already satisfied: joblib in /usr/local/lib/python3.11/dist-packages (from nltk>=3.9->textblob) (1.4.2)\n",
            "Requirement already satisfied: regex>=2021.8.3 in /usr/local/lib/python3.11/dist-packages (from nltk>=3.9->textblob) (2024.11.6)\n",
            "Requirement already satisfied: tqdm in /usr/local/lib/python3.11/dist-packages (from nltk>=3.9->textblob) (4.67.1)\n"
          ]
        }
      ]
    },
    {
      "cell_type": "code",
      "execution_count": null,
      "metadata": {
        "colab": {
          "base_uri": "https://localhost:8080/"
        },
        "id": "GMxOCKfDMLye",
        "outputId": "a9b6c41f-8a38-4106-a715-676833b381f7"
      },
      "outputs": [
        {
          "output_type": "stream",
          "name": "stdout",
          "text": [
            "Polarity: -0.4, Subjectivity: 0.9\n",
            "احساس منفی\n"
          ]
        }
      ],
      "source": [
        "\n",
        "# نصب کتابخانه\n",
        "# !pip install textblob\n",
        "\n",
        "from textblob import TextBlob\n",
        "\n",
        "# متن نمونه\n",
        "text = \"I hate this product! It's absolutely wonderful.I am frusrated\"\n",
        "\n",
        "# تحلیل احساسات\n",
        "blob = TextBlob(text)\n",
        "sentiment = blob.sentiment\n",
        "\n",
        "print(f\"Polarity: {sentiment.polarity}, Subjectivity: {sentiment.subjectivity}\")\n",
        "\n",
        "if sentiment.polarity > 0:\n",
        "    print(\"احساس مثبت\")\n",
        "elif sentiment.polarity < 0:\n",
        "    print(\"احساس منفی\")\n",
        "else:\n",
        "    print(\"احساس خنثی\")"
      ]
    }
  ]
}