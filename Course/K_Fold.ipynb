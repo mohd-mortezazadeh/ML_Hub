{
 "cells": [
  {
   "cell_type": "code",
   "execution_count": 7,
   "metadata": {},
   "outputs": [
    {
     "name": "stdout",
     "output_type": "stream",
     "text": [
      "Requirement already satisfied: prettytable in /home/pydevcasts/Templates/MLHub/venv/lib/python3.12/site-packages (3.15.1)\n",
      "Requirement already satisfied: wcwidth in /home/pydevcasts/Templates/MLHub/venv/lib/python3.12/site-packages (from prettytable) (0.2.13)\n"
     ]
    }
   ],
   "source": [
    "! pip install prettytable\n"
   ]
  },
  {
   "cell_type": "code",
   "execution_count": 35,
   "metadata": {},
   "outputs": [
    {
     "data": {
      "text/html": [
       "<div>\n",
       "<style scoped>\n",
       "    .dataframe tbody tr th:only-of-type {\n",
       "        vertical-align: middle;\n",
       "    }\n",
       "\n",
       "    .dataframe tbody tr th {\n",
       "        vertical-align: top;\n",
       "    }\n",
       "\n",
       "    .dataframe thead th {\n",
       "        text-align: right;\n",
       "    }\n",
       "</style>\n",
       "<table border=\"1\" class=\"dataframe\">\n",
       "  <thead>\n",
       "    <tr style=\"text-align: right;\">\n",
       "      <th></th>\n",
       "      <th>sepal.length</th>\n",
       "      <th>sepal.width</th>\n",
       "      <th>petal.length</th>\n",
       "      <th>petal.width</th>\n",
       "      <th>variety</th>\n",
       "    </tr>\n",
       "  </thead>\n",
       "  <tbody>\n",
       "    <tr>\n",
       "      <th>145</th>\n",
       "      <td>6.7</td>\n",
       "      <td>3.0</td>\n",
       "      <td>5.2</td>\n",
       "      <td>2.3</td>\n",
       "      <td>Virginica</td>\n",
       "    </tr>\n",
       "    <tr>\n",
       "      <th>146</th>\n",
       "      <td>6.3</td>\n",
       "      <td>2.5</td>\n",
       "      <td>5.0</td>\n",
       "      <td>1.9</td>\n",
       "      <td>Virginica</td>\n",
       "    </tr>\n",
       "    <tr>\n",
       "      <th>147</th>\n",
       "      <td>6.5</td>\n",
       "      <td>3.0</td>\n",
       "      <td>5.2</td>\n",
       "      <td>2.0</td>\n",
       "      <td>Virginica</td>\n",
       "    </tr>\n",
       "    <tr>\n",
       "      <th>148</th>\n",
       "      <td>6.2</td>\n",
       "      <td>3.4</td>\n",
       "      <td>5.4</td>\n",
       "      <td>2.3</td>\n",
       "      <td>Virginica</td>\n",
       "    </tr>\n",
       "    <tr>\n",
       "      <th>149</th>\n",
       "      <td>5.9</td>\n",
       "      <td>3.0</td>\n",
       "      <td>5.1</td>\n",
       "      <td>1.8</td>\n",
       "      <td>Virginica</td>\n",
       "    </tr>\n",
       "  </tbody>\n",
       "</table>\n",
       "</div>"
      ],
      "text/plain": [
       "     sepal.length  sepal.width  petal.length  petal.width    variety\n",
       "145           6.7          3.0           5.2          2.3  Virginica\n",
       "146           6.3          2.5           5.0          1.9  Virginica\n",
       "147           6.5          3.0           5.2          2.0  Virginica\n",
       "148           6.2          3.4           5.4          2.3  Virginica\n",
       "149           5.9          3.0           5.1          1.8  Virginica"
      ]
     },
     "execution_count": 35,
     "metadata": {},
     "output_type": "execute_result"
    }
   ],
   "source": [
    "# Importing necessary libraries\n",
    "import pandas as pd  # For data manipulation and DataFrame creation\n",
    "import numpy as np  # For numerical operations and array handling\n",
    "from sklearn.model_selection import train_test_split  # For splitting data into training and testing sets\n",
    "from sklearn.neighbors import KNeighborsClassifier  # For using the K-Nearest Neighbors algorithm\n",
    "from sklearn.model_selection import cross_validate  # For cross-validation\n",
    "from prettytable import PrettyTable  # For displaying results in a table format\n",
    "\n",
    "# Read the data from a CSV file and inspect it\n",
    "data = pd.read_csv('../DataSets/iris.csv')  # Load the Iris dataset from the specified CSV file\n",
    "data.tail()  # Display the first 5 rows of the data to check its structure and content\n",
    "\n"
   ]
  },
  {
   "cell_type": "code",
   "execution_count": 19,
   "metadata": {},
   "outputs": [],
   "source": [
    "# Split the dataset into training and testing sets (80% training, 20% testing)\n",
    "characteristics = data.iloc[:, :4]  # Extract the first 4 columns as features (characteristics)\n",
    "target = data.iloc[:, -1]  # Extract the last column as the target variable (labels)\n",
    "\n",
    "# Perform the train/test split\n",
    "x_train, x_test, y_train, y_test = train_test_split(characteristics, target, test_size=0.2, random_state=2727)"
   ]
  },
  {
   "cell_type": "code",
   "execution_count": null,
   "metadata": {},
   "outputs": [],
   "source": [
    "# Cross-validation for hyperparameter tuning\n",
    "hyperparameter_score_list = []  # Initialize an empty list to store the scores for different hyperparameter combinations\n",
    "\n",
    "# Loop through different values of p (distance metric) and n_neighbors (number of neighbors)\n",
    "for p in range(1, 4):  # Iterate over p values from 1 to 3\n",
    "    for neighbor in range(2, 7):  # Iterate over n_neighbors values from 2 to 6\n",
    "        knn = KNeighborsClassifier(p=p, n_neighbors=neighbor)  # Create a KNN model with the current hyperparameters\n",
    "        # Perform cross-validation with 10 folds and calculate accuracy scores\n",
    "        scores = cross_validate(knn, x_train, y_train, cv=10, scoring='accuracy')\n",
    "        mean_score = np.mean(scores['test_score'])  # Compute the mean accuracy score from the cross-validation results\n",
    "        # Append the current hyperparameters and their mean score to the score list\n",
    "        hyperparameter_score_list.append([p, neighbor, mean_score])"
   ]
  },
  {
   "cell_type": "code",
   "execution_count": 24,
   "metadata": {},
   "outputs": [
    {
     "name": "stdout",
     "output_type": "stream",
     "text": [
      "[1, 2, np.float64(0.9583333333333333)]\n",
      "[1, 3, np.float64(0.9666666666666666)]\n",
      "[1, 4, np.float64(0.9666666666666666)]\n",
      "[1, 5, np.float64(0.975)]\n",
      "[1, 6, np.float64(0.9666666666666666)]\n",
      "[2, 2, np.float64(0.9666666666666666)]\n",
      "[2, 3, np.float64(0.9833333333333332)]\n",
      "[2, 4, np.float64(0.975)]\n",
      "[2, 5, np.float64(0.9833333333333332)]\n",
      "[2, 6, np.float64(0.975)]\n",
      "[3, 2, np.float64(0.9666666666666666)]\n",
      "[3, 3, np.float64(0.975)]\n",
      "[3, 4, np.float64(0.975)]\n",
      "[3, 5, np.float64(0.9833333333333332)]\n",
      "[3, 6, np.float64(0.975)]\n"
     ]
    }
   ],
   "source": [
    "for row in hyperparameter_score_list:\n",
    "    print(row)"
   ]
  },
  {
   "cell_type": "code",
   "execution_count": 25,
   "metadata": {},
   "outputs": [
    {
     "name": "stdout",
     "output_type": "stream",
     "text": [
      "+--------------+---------------------+--------------+\n",
      "| p (distance) | Number of neighbors | Avg accuracy |\n",
      "+--------------+---------------------+--------------+\n",
      "|      1       |          2          |    0.958     |\n",
      "|      1       |          3          |    0.967     |\n",
      "|      1       |          4          |    0.967     |\n",
      "|      1       |          5          |    0.975     |\n",
      "|      1       |          6          |    0.967     |\n",
      "|      2       |          2          |    0.967     |\n",
      "|      2       |          3          |    0.983     |\n",
      "|      2       |          4          |    0.975     |\n",
      "|      2       |          5          |    0.983     |\n",
      "|      2       |          6          |    0.975     |\n",
      "|      3       |          2          |    0.967     |\n",
      "|      3       |          3          |    0.975     |\n",
      "|      3       |          4          |    0.975     |\n",
      "|      3       |          5          |    0.983     |\n",
      "|      3       |          6          |    0.975     |\n",
      "+--------------+---------------------+--------------+\n"
     ]
    }
   ],
   "source": [
    "\n",
    "# choose the hyper-parameters (with highest average accuracy)\n",
    "myTable = PrettyTable([\"p (distance)\", \"Number of neighbors\", \"Avg accuracy\"])\n",
    "for row in hyperparameter_score_list:\n",
    "    myTable.add_row([row[0], row[1], round(row[2],3)])\n",
    "print(myTable)\n",
    "\n",
    "\n"
   ]
  },
  {
   "cell_type": "code",
   "execution_count": 23,
   "metadata": {},
   "outputs": [
    {
     "name": "stdout",
     "output_type": "stream",
     "text": [
      "Best Model Testing Score:  0.9333333333333333\n"
     ]
    }
   ],
   "source": [
    "# Evaluate the performance of the KNN model with the best parameters on the testing set\n",
    "knn = KNeighborsClassifier(p=2, n_neighbors=3)  # Create an instance of KNeighborsClassifier with specified parameters\n",
    "# p=2 indicates the use of the Euclidean distance metric, n_neighbors=3 indicates using 3 nearest neighbors\n",
    "\n",
    "knn_best_model = knn.fit(x_train, y_train)  # Fit the model to the training data (features and target labels)\n",
    "\n",
    "# Evaluate the model on the testing set and print the accuracy score\n",
    "print(\"Best Model Testing Score: \", knn_best_model.score(x_test, y_test))  # Calculate and display the model's accuracy on the test set\n"
   ]
  },
  {
   "cell_type": "code",
   "execution_count": 20,
   "metadata": {},
   "outputs": [
    {
     "data": {
      "text/plain": [
       "array(['Versicolor', 'Setosa'], dtype=object)"
      ]
     },
     "execution_count": 20,
     "metadata": {},
     "output_type": "execute_result"
    }
   ],
   "source": [
    "prediction = knn_best_model.predict(x_test)\n",
    "prediction[:2]\n"
   ]
  },
  {
   "cell_type": "code",
   "execution_count": 17,
   "metadata": {},
   "outputs": [
    {
     "data": {
      "text/plain": [
       "119    Virginica\n",
       "4         Setosa\n",
       "Name: variety, dtype: object"
      ]
     },
     "execution_count": 17,
     "metadata": {},
     "output_type": "execute_result"
    }
   ],
   "source": [
    "y_test[:2]"
   ]
  }
 ],
 "metadata": {
  "kernelspec": {
   "display_name": "venv",
   "language": "python",
   "name": "python3"
  },
  "language_info": {
   "codemirror_mode": {
    "name": "ipython",
    "version": 3
   },
   "file_extension": ".py",
   "mimetype": "text/x-python",
   "name": "python",
   "nbconvert_exporter": "python",
   "pygments_lexer": "ipython3",
   "version": "3.12.3"
  }
 },
 "nbformat": 4,
 "nbformat_minor": 2
}
