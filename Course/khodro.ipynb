{
 "cells": [
  {
   "cell_type": "markdown",
   "metadata": {},
   "source": [
    "\n",
    "![My Image](../images/khodro.png)"
   ]
  },
  {
   "cell_type": "markdown",
   "metadata": {},
   "source": [
    "برای حل مسئله‌ی فوق با استفاده از الگوریتم Naive Bayes، مراحل زیر را دنبال می‌کنیم:\n",
    "\n",
    "### 1. **جمع‌آوری داده‌ها**\n",
    "جدول داده‌ها شامل ویژگی‌های زیر است:\n",
    "- **سال تولید**\n",
    "- **نوع**\n",
    "- **رنگ**\n",
    "- **وجود نقص فنی (دارا یا نداشته)**\n",
    "\n",
    "### 2. **آماده‌سازی داده‌ها**\n",
    "داده‌های جدول را به فرم زیر درمی‌آوریم:\n",
    "\n",
    "| سال تولید | نوع  | رنگ | وجود نقص فنی |\n",
    "|-----------|------|-----|---------------|\n",
    "| 2011      | Sport| قرمز| دارد          |\n",
    "| 2011      | Sport| قرمز| ندارد         |\n",
    "| 2011      | Sport| زرد | دارد          |\n",
    "| 2011      | Sport| زرد | ندارد         |\n",
    "| 2012      | Sport| زرد | دارد          |\n",
    "| 2012      | SUV  | زرد | ندارد         |\n",
    "| 2012      | SUV  | زرد | دارد          |\n",
    "| 2011      | SUV  | قرمز| ندارد         |\n",
    "| 2012      | SUV  | قرمز| ندارد         |\n",
    "| 2012      | Sport| قرمز| دارد          |\n",
    "\n",
    "\n"
   ]
  },
  {
   "cell_type": "code",
   "execution_count": 14,
   "metadata": {},
   "outputs": [
    {
     "name": "stdout",
     "output_type": "stream",
     "text": [
      "Defect prediction: No defect\n"
     ]
    }
   ],
   "source": [
    "import pandas as pd\n",
    "from sklearn.naive_bayes import GaussianNB\n",
    "import matplotlib.pyplot as plt\n",
    "import seaborn as sns\n",
    "# Creating the dataset\n",
    "data = {\n",
    "    'Year': [2011, 2011, 2011, 2011, 2012, 2012, 2012, 2011, 2012, 2012],\n",
    "    'Type': ['Sport', 'Sport', 'Sport', 'Sport', 'Sport', 'SUV', 'SUV', 'SUV', 'SUV', 'Sport'],\n",
    "    'Color': ['Red', 'Red', 'Yellow', 'Yellow', 'Yellow', 'Yellow', 'Yellow', 'Red', 'Red', 'Red'],\n",
    "    'Defect': [1, 0, 1, 0, 1, 0, 1, 0, 0, 1]  # 1 for has defect and 0 for does not\n",
    "}\n",
    "\n",
    "# Convert the data into a DataFrame\n",
    "df = pd.DataFrame(data)\n",
    "\n",
    "# Encode categorical features as numeric\n",
    "df['Type'] = df['Type'].apply(lambda x: 1 if x == 'Sport' else 0)\n",
    "df['Color'] = df['Color'].apply(lambda x: 1 if x == 'Red' else 0)\n",
    "\n",
    "# Separate features and labels\n",
    "X = df[['Year', 'Type', 'Color']]\n",
    "y = df['Defect']\n",
    "\n",
    "# Create and train the model\n",
    "model = GaussianNB()\n",
    "model.fit(X, y)\n",
    "\n",
    "# Predict for a new sample (Year 2011, Type SUV, Color Red)\n",
    "new_data = pd.DataFrame({\n",
    "    'Year': [2011],\n",
    "    'Type': [0],  # SUV = 0\n",
    "    'Color': [1]  # Red = 1\n",
    "})\n",
    "\n",
    "prediction = model.predict(new_data)\n",
    "\n",
    "# Display the result\n",
    "result = \"Has defect\" if prediction[0] == 1 else \"No defect\"\n",
    "print(f\"Defect prediction: {result}\")\n",
    "\n",
    "\n",
    "\n",
    "# # Create a count of defects based on Type and Color\n",
    "# defect_counts = df.groupby(['Type', 'Color'])['Defect'].sum().reset_index()\n",
    "\n",
    "# # Plotting\n",
    "# # plt.figure(figsize=(10, 6))\n",
    "# sns.barplot(data=defect_counts, x='Type', y='Defect', hue='Color', palette='muted')\n",
    "\n",
    "# # Adding labels and title\n",
    "# plt.xlabel('Type (0: SUV, 1: Sport)')\n",
    "# plt.ylabel('Number of Defects')\n",
    "# plt.title('Number of Defects by Type and Color')\n",
    "# plt.xticks(ticks=[0, 1], labels=['SUV', 'Sport'])\n",
    "# plt.legend(title='Color', labels=['Yellow', 'Red'])\n",
    "# plt.grid(True)\n",
    "# plt.show()"
   ]
  },
  {
   "cell_type": "markdown",
   "metadata": {},
   "source": []
  }
 ],
 "metadata": {
  "kernelspec": {
   "display_name": "venv",
   "language": "python",
   "name": "python3"
  },
  "language_info": {
   "codemirror_mode": {
    "name": "ipython",
    "version": 3
   },
   "file_extension": ".py",
   "mimetype": "text/x-python",
   "name": "python",
   "nbconvert_exporter": "python",
   "pygments_lexer": "ipython3",
   "version": "3.12.3"
  }
 },
 "nbformat": 4,
 "nbformat_minor": 2
}
