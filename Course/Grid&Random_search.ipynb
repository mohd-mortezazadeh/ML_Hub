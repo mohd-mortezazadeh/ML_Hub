{
  "cells": [
    {
      "cell_type": "markdown",
      "metadata": {
        "colab_type": "text",
        "id": "view-in-github"
      },
      "source": [
        "<a href=\"https://colab.research.google.com/github/pydevcasts/MLHub/blob/master/Grid%26Random_search.ipynb\" target=\"_parent\"><img src=\"https://colab.research.google.com/assets/colab-badge.svg\" alt=\"Open In Colab\"/></a>"
      ]
    },
    {
      "cell_type": "code",
      "execution_count": null,
      "metadata": {
        "id": "yw9hr64wN4nq"
      },
      "outputs": [],
      "source": [
        "from sklearn.datasets import make_classification\n",
        "x, y = make_classification(n_classes=2, n_samples=1000, n_features=20, n_informative=10,n_redundant=5, random_state=0)"
      ]
    },
    {
      "cell_type": "code",
      "execution_count": null,
      "metadata": {
        "colab": {
          "base_uri": "https://localhost:8080/"
        },
        "id": "hgu69Z0NcUkn",
        "outputId": "d6134fc9-8391-43d6-e5ce-09588d08e94e"
      },
      "outputs": [
        {
          "data": {
            "text/plain": [
              "array([ 1.45377865, -0.71918443,  2.39030279,  1.12596521, -3.47282708,\n",
              "        1.55528867, -1.48370856, -1.33406913, -2.64178634, -0.2070791 ,\n",
              "        4.89442021,  1.70620233, -1.31200569, -0.50720349, -0.18435887,\n",
              "        2.07495721, -0.98751136, -1.04461223, -0.9975594 ,  0.69396016])"
            ]
          },
          "execution_count": 31,
          "metadata": {},
          "output_type": "execute_result"
        }
      ],
      "source": [
        "x[0] # feature"
      ]
    },
    {
      "cell_type": "code",
      "execution_count": null,
      "metadata": {
        "colab": {
          "base_uri": "https://localhost:8080/"
        },
        "id": "PTEZI-QycW6f",
        "outputId": "d03eae4e-3b42-42a0-b849-f20c3095ca0d"
      },
      "outputs": [
        {
          "data": {
            "text/plain": [
              "0"
            ]
          },
          "execution_count": 32,
          "metadata": {},
          "output_type": "execute_result"
        }
      ],
      "source": [
        "y[0] #labels"
      ]
    },
    {
      "cell_type": "code",
      "execution_count": null,
      "metadata": {
        "colab": {
          "base_uri": "https://localhost:8080/"
        },
        "id": "uJkvZCMic77p",
        "outputId": "d4027b5d-6a7d-463f-97bf-4e38866a1e38"
      },
      "outputs": [
        {
          "data": {
            "text/plain": [
              "((1000, 20), (1000,))"
            ]
          },
          "execution_count": 33,
          "metadata": {},
          "output_type": "execute_result"
        }
      ],
      "source": [
        "x.shape, y.shape"
      ]
    },
    {
      "cell_type": "code",
      "execution_count": null,
      "metadata": {
        "colab": {
          "base_uri": "https://localhost:8080/"
        },
        "id": "r7fUMwuydAp5",
        "outputId": "d8494f9a-2265-43ad-c6aa-d8d97108b6a3"
      },
      "outputs": [
        {
          "data": {
            "text/plain": [
              "((200, 20), (200,))"
            ]
          },
          "execution_count": 34,
          "metadata": {},
          "output_type": "execute_result"
        }
      ],
      "source": [
        "from sklearn.model_selection import train_test_split\n",
        "x_train, x_test, y_train, y_test = train_test_split(x, y, test_size=0.2)\n",
        "x_test.shape, y_test.shape"
      ]
    },
    {
      "cell_type": "code",
      "execution_count": null,
      "metadata": {
        "colab": {
          "base_uri": "https://localhost:8080/"
        },
        "id": "hCwbjZfbdink",
        "outputId": "b49ff9d3-e342-4107-b9d7-d9a38c478f3e"
      },
      "outputs": [
        {
          "data": {
            "text/plain": [
              "((800, 20), (800,))"
            ]
          },
          "execution_count": 35,
          "metadata": {},
          "output_type": "execute_result"
        }
      ],
      "source": [
        "x_train.shape, y_train.shape"
      ]
    },
    {
      "cell_type": "markdown",
      "metadata": {
        "id": "tfqeBmradoZj"
      },
      "source": [
        "# Model Definition\n"
      ]
    },
    {
      "cell_type": "code",
      "execution_count": null,
      "metadata": {
        "id": "WIKaW59Hdrsl"
      },
      "outputs": [],
      "source": [
        "from tensorflow import keras\n",
        "import tensorflow as tf\n",
        "from scikeras.wrappers import KerasClassifier\n",
        "from sklearn.model_selection import GridSearchCV\n",
        "\n",
        "def create_model(hidden_units=16, optimizer=\"adam\"):\n",
        "    model = keras.Sequential()\n",
        "    model.add(keras.layers.Dense(units=hidden_units, input_shape=(20,), activation=\"relu\"))  # input_shape باید یک tuple باشد\n",
        "    model.add(keras.layers.Dense(units=1, activation=\"sigmoid\"))\n",
        "    model.compile(optimizer=optimizer, loss=\"binary_crossentropy\", metrics=['accuracy'])\n",
        "    return model\n",
        "\n",
        "\n"
      ]
    },
    {
      "cell_type": "markdown",
      "metadata": {
        "id": "G58ejMJKfRQh"
      },
      "source": [
        "# Grid search\n"
      ]
    },
    {
      "cell_type": "code",
      "execution_count": null,
      "metadata": {
        "id": "AwzV23QsfXFx"
      },
      "outputs": [],
      "source": [
        "from sklearn.model_selection import GridSearchCV\n",
        "from scikeras.wrappers import KerasClassifier"
      ]
    },
    {
      "cell_type": "code",
      "execution_count": null,
      "metadata": {
        "id": "OzLSKZGakPYD"
      },
      "outputs": [],
      "source": [
        "model = KerasClassifier(model=create_model, loss=\"binary_crossentropy\", epochs=10, batch_size=32, verbose=0)"
      ]
    },
    {
      "cell_type": "code",
      "execution_count": null,
      "metadata": {
        "id": "EcphCDWnk2qK"
      },
      "outputs": [],
      "source": [
        "\n",
        "# پارامترهای جستجو\n",
        "params = {\n",
        "    'model__hidden_units': [16, 32, 64],\n",
        "    'model__optimizer': [\"adam\", \"rmsprop\"]  # اصلاح نام پارامتر\n",
        "}"
      ]
    },
    {
      "cell_type": "code",
      "execution_count": null,
      "metadata": {
        "id": "vgKPdmnslcgZ"
      },
      "outputs": [],
      "source": [
        "# جستجوی شبکه‌ای\n",
        "grid = GridSearchCV(estimator=model, param_grid=params, cv=3)\n",
        "grid_result = grid.fit(x_train, y_train)\n",
        "\n",
        "# نمایش نتایج\n",
        "print(\"Best parameters found: \", grid_result.best_params_)\n",
        "print(\"Best accuracy: \", grid_result.best_score_)"
      ]
    },
    {
      "cell_type": "markdown",
      "metadata": {
        "id": "PN-Wp0AKqfAm"
      },
      "source": [
        "# Random Search\n"
      ]
    },
    {
      "cell_type": "code",
      "execution_count": null,
      "metadata": {
        "id": "8lRm4Bu5qexj"
      },
      "outputs": [],
      "source": [
        "from sklearn.model_selection import RandomizedSearchCV\n",
        "rs = RandomizedSearchCV(estimator=model, param_distributions=params, cv=3, n_iter=6)\n",
        "rs_result = rs.fit(x_train, y_train)"
      ]
    },
    {
      "cell_type": "code",
      "execution_count": null,
      "metadata": {
        "id": "Uc13n33YrRxk"
      },
      "outputs": [],
      "source": [
        "rs_best_params=rs_result.best_params_\n",
        "rs_best_params"
      ]
    },
    {
      "cell_type": "code",
      "execution_count": null,
      "metadata": {
        "id": "VUlncoZsrh_X"
      },
      "outputs": [],
      "source": [
        "rs_best_score = rs_result.best_score_\n",
        "rs_best_score"
      ]
    }
  ],
  "metadata": {
    "accelerator": "GPU",
    "colab": {
      "authorship_tag": "ABX9TyM7br4vmg+wRHg+EJh0LdaR",
      "gpuType": "T4",
      "include_colab_link": true,
      "provenance": []
    },
    "kernelspec": {
      "display_name": "Python 3",
      "name": "python3"
    },
    "language_info": {
      "name": "python"
    }
  },
  "nbformat": 4,
  "nbformat_minor": 0
}
